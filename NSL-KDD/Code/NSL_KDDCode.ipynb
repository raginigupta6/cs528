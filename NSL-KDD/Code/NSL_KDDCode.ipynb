{
  "nbformat": 4,
  "nbformat_minor": 0,
  "metadata": {
    "kernelspec": {
      "name": "python3",
      "display_name": "Python 3"
    },
    "language_info": {
      "codemirror_mode": {
        "name": "ipython",
        "version": 3
      },
      "file_extension": ".py",
      "mimetype": "text/x-python",
      "name": "python",
      "nbconvert_exporter": "python",
      "pygments_lexer": "ipython3",
      "version": "3.7.3"
    },
    "colab": {
      "name": "NSL_KDDCode.ipynb",
      "provenance": [],
      "collapsed_sections": [
        "LvirvNaV1gT3"
      ],
      "toc_visible": true,
      "machine_shape": "hm"
    },
    "accelerator": "GPU"
  },
  "cells": [
    {
      "cell_type": "markdown",
      "metadata": {
        "id": "-ZixxRgn_QE2"
      },
      "source": [
        "\n"
      ]
    },
    {
      "cell_type": "code",
      "metadata": {
        "id": "m9hIv2s7_QE6",
        "colab": {
          "base_uri": "https://localhost:8080/",
          "height": 83
        },
        "outputId": "d52404ba-ecf1-4150-c817-7fbd9a8e7dce"
      },
      "source": [
        "%config IPCompleter.greedy=True\n",
        "import pandas as pd\n",
        "import seaborn as sns\n",
        "import numpy as np\n",
        "import re\n",
        "import sklearn\n",
        "\n",
        "import warnings\n",
        "warnings.filterwarnings(\"ignore\")\n",
        "\n",
        "import matplotlib.pyplot as plt\n",
        "import matplotlib as matplot\n",
        "%matplotlib inline\n",
        "\n",
        "from IPython.core.interactiveshell import InteractiveShell\n",
        "InteractiveShell.ast_node_interactivity = \"all\"\n",
        "\n",
        "from keras.models import Model, load_model\n",
        "from keras.layers import *\n",
        "from keras.callbacks import ModelCheckpoint, TensorBoard\n",
        "from keras import regularizers\n",
        "\n",
        "from sklearn.metrics import (confusion_matrix, precision_recall_curve, auc,\n",
        "                             roc_curve, recall_score, classification_report, f1_score,\n",
        "                             precision_recall_fscore_support)\n",
        "\n",
        "from sklearn import linear_model\n",
        "from sklearn.tree import DecisionTreeClassifier\n",
        "from sklearn.ensemble import RandomForestClassifier\n",
        "from sklearn.ensemble import ExtraTreesClassifier\n",
        "from sklearn.ensemble import VotingClassifier\n",
        "\n",
        "from sklearn.model_selection import train_test_split\n",
        "from sklearn.preprocessing import LabelEncoder,normalize"
      ],
      "execution_count": null,
      "outputs": [
        {
          "output_type": "stream",
          "text": [
            "Using TensorFlow backend.\n"
          ],
          "name": "stderr"
        },
        {
          "output_type": "display_data",
          "data": {
            "text/html": [
              "<p style=\"color: red;\">\n",
              "The default version of TensorFlow in Colab will soon switch to TensorFlow 2.x.<br>\n",
              "We recommend you <a href=\"https://www.tensorflow.org/guide/migrate\" target=\"_blank\">upgrade</a> now \n",
              "or ensure your notebook will continue to use TensorFlow 1.x via the <code>%tensorflow_version 1.x</code> magic:\n",
              "<a href=\"https://colab.research.google.com/notebooks/tensorflow_version.ipynb\" target=\"_blank\">more info</a>.</p>\n"
            ],
            "text/plain": [
              "<IPython.core.display.HTML object>"
            ]
          },
          "metadata": {
            "tags": []
          }
        }
      ]
    },
    {
      "cell_type": "code",
      "metadata": {
        "id": "xcmNZAzs_Svh"
      },
      "source": [
        "labels = ['duration', 'protocol_type', 'service', 'flag', 'src_bytes',\n",
        "'dst_bytes', 'land', 'wrong_fragment', 'urgent', 'hot',\n",
        "'num_failed_logins', 'logged_in', 'num_compromised', 'root_shell',\n",
        "'su_attempted', 'num_root', 'num_file_creations', 'num_shells',\n",
        "'num_access_files', 'num_outbound_cmds', 'is_host_login',\n",
        "'is_guest_login', 'count', 'srv_count', 'serror_rate',\n",
        "'srv_serror_rate', 'rerror_rate', 'srv_rerror_rate', 'same_srv_rate',\n",
        "'diff_srv_rate', 'srv_diff_host_rate', 'dst_host_count',\n",
        "'dst_host_srv_count', 'dst_host_same_srv_rate', 'dst_host_diff_srv_rate', 'dst_host_same_src_port_rate',\n",
        "'dst_host_srv_diff_host_rate', 'dst_host_serror_rate',\n",
        "'dst_host_srv_serror_rate', 'dst_host_rerror_rate',\n",
        "'dst_host_srv_rerror_rate', 'attack_type', 'difficulty_level']# subclass - > attack_type\n",
        "\n",
        "train = pd.read_csv('https://raw.githubusercontent.com/defcom17/NSL_KDD/master/KDDTrain%2B.csv')\n",
        "test = pd.read_csv('https://raw.githubusercontent.com/defcom17/NSL_KDD/master/KDDTest%2B.csv')\n",
        "train.columns , test.columns = labels , labels\n",
        "combined_data = pd.concat([train, test]).drop('difficulty_level', 1)\n",
        "# combined_data.shape\n",
        "# combined_data.head(5)"
      ],
      "execution_count": null,
      "outputs": []
    },
    {
      "cell_type": "markdown",
      "metadata": {
        "id": "Xbsr_Auy_QFN"
      },
      "source": [
        "### The following few cells are taken from the 'sample code'"
      ]
    },
    {
      "cell_type": "code",
      "metadata": {
        "id": "nl9Yok3f_QFO",
        "colab": {
          "base_uri": "https://localhost:8080/",
          "height": 201
        },
        "outputId": "8f6b613b-2ea5-4811-d782-3e533a65bf72"
      },
      "source": [
        "le = LabelEncoder()\n",
        "\n",
        "vector = combined_data['attack_type']\n",
        "\n",
        "print(\"Attack Vectors:\", set(list(vector))) # use print to make it print on single line \n",
        "combined_data['attack_type'] = le.fit_transform(vector)\n",
        "combined_data['protocol_type'] = le.fit_transform(combined_data['protocol_type'])\n",
        "combined_data['service'] = le.fit_transform(combined_data['service'])\n",
        "combined_data['flag'] = le.fit_transform(combined_data['flag'])\n",
        "\n",
        "print('\\nDescribing attack_type: ')\n",
        "print(\"min\", vector.min())\n",
        "print(\"max\", vector.max())\n",
        "print(\"mode\",vector.mode())\n",
        "print(\"mode\", len(np.where(vector.values==16)[0])/len(vector),\"%\")\n",
        "print(\"looks like 16 is 'normal' \")"
      ],
      "execution_count": null,
      "outputs": [
        {
          "output_type": "stream",
          "text": [
            "Attack Vectors: {'mscan', 'imap', 'apache2', 'saint', 'guess_passwd', 'ipsweep', 'normal', 'spy', 'teardrop', 'back', 'mailbomb', 'loadmodule', 'snmpgetattack', 'land', 'worm', 'perl', 'warezclient', 'ftp_write', 'udpstorm', 'portsweep', 'named', 'warezmaster', 'nmap', 'pod', 'rootkit', 'sqlattack', 'xlock', 'neptune', 'multihop', 'httptunnel', 'buffer_overflow', 'xterm', 'ps', 'snmpguess', 'sendmail', 'xsnoop', 'satan', 'phf', 'processtable', 'smurf'}\n",
            "\n",
            "Describing attack_type: \n",
            "min apache2\n",
            "max xterm\n",
            "mode 0    normal\n",
            "dtype: object\n",
            "mode 0.0 %\n",
            "looks like 16 is 'normal' \n"
          ],
          "name": "stdout"
        }
      ]
    },
    {
      "cell_type": "markdown",
      "metadata": {
        "id": "LvirvNaV1gT3"
      },
      "source": [
        "# Reduce feature space - unused"
      ]
    },
    {
      "cell_type": "code",
      "metadata": {
        "id": "DMafgVi9ZLEA"
      },
      "source": [
        "def RFS(): \n",
        "  # select least correlated\n",
        "  corr_matrix = combined_data.corr().abs().sort_values('attack_type')\n",
        "  # tmp.head(10) # to view CORR matrix \n",
        "  leastCorrelated = corr_matrix['attack_type'].where(lambda x: x < 0.005).dropna()\n",
        "  leastCorrelated = list(leastCorrelated.index)\n",
        "\n",
        "  # select least STD\n",
        "  leastSTD = combined_data.std().to_frame().where(lambda x: x < 0.05).dropna()#.nsmallest(20, columns=0)\n",
        "  leastSTD = list(leastSTD.transpose().columns)\n",
        "\n",
        "  featureElimination = set(leastCorrelated + leastSTD)\n",
        "  return featureElimination\n",
        "\n",
        "# featureElimination = RFS()\n",
        "# len(featureElimination)\n",
        "# featureElimination\n",
        "\n",
        "\n"
      ],
      "execution_count": null,
      "outputs": []
    },
    {
      "cell_type": "markdown",
      "metadata": {
        "id": "60WOhD9X_QFf"
      },
      "source": [
        "# Drop features and perform train_test_split"
      ]
    },
    {
      "cell_type": "code",
      "metadata": {
        "id": "x4xaj5Z0ZURo"
      },
      "source": [
        "# combined_data_reduced = combined_data.drop(featureElimination,axis=1)\n",
        "\n",
        "data_x = combined_data.drop('attack_type', axis=1)\n",
        "data_y = combined_data.loc[:,['attack_type']]\n",
        "# del combined_data # free mem\n",
        "X_train, X_test, y_train, y_test = train_test_split(data_x, data_y, test_size=.5, random_state=42) # TODO\n",
        "\n",
        "X_train = pd.DataFrame(normalize(X_train))\n",
        "X_test = pd.DataFrame(normalize(X_test)) # this is worng (cheating), i should have used a sk-learn obj. "
      ],
      "execution_count": null,
      "outputs": []
    },
    {
      "cell_type": "markdown",
      "metadata": {
        "id": "EyXt8Id41wlr"
      },
      "source": [
        "# Basline ML "
      ]
    },
    {
      "cell_type": "code",
      "metadata": {
        "id": "G4e7NTqd_QFr",
        "colab": {
          "base_uri": "https://localhost:8080/",
          "height": 35
        },
        "outputId": "68d27f39-0e5b-43e3-f3f1-246980a2e329"
      },
      "source": [
        "import gc \n",
        "_ = gc.collect()\n",
        "print(\"# of Dims, \",X_train.shape[1])"
      ],
      "execution_count": null,
      "outputs": [
        {
          "output_type": "stream",
          "text": [
            "# of Dims,  41\n"
          ],
          "name": "stdout"
        }
      ]
    },
    {
      "cell_type": "code",
      "metadata": {
        "id": "DPbIkY3GNXp6"
      },
      "source": [
        "DTC = DecisionTreeClassifier() \n",
        "RFC = RandomForestClassifier(n_estimators=25, random_state=1)\n",
        "ETC = ExtraTreesClassifier(n_estimators=10, criterion='gini', max_features='auto', bootstrap=False)\n",
        "x = X_train\n",
        "y = y_train['attack_type'].ravel()\n",
        "\n",
        "eclf = VotingClassifier(estimators=[('lr', DTC), ('rf', RFC),('et',ETC)], voting='hard') \n",
        "for clf, label in zip([DTC, RFC,ETC, eclf], ['DecisionTreeClassifier', 'RandomForestClassifier', 'ExtraTreesClassifier', 'Ensemble']): \n",
        "    _ = clf.fit(x,y)\n",
        "    pred = clf.score(X_test,y_test)\n",
        "    print(\"Acc: %0.10f [%s]\" % (pred,label))"
      ],
      "execution_count": null,
      "outputs": []
    },
    {
      "cell_type": "markdown",
      "metadata": {
        "id": "i_Zp-BxRqwWI"
      },
      "source": [
        "# Comparison"
      ]
    },
    {
      "cell_type": "code",
      "metadata": {
        "id": "Wn77ZwlBHcbA"
      },
      "source": [
        "from sklearn.feature_selection import RFE\n",
        "from sklearn.decomposition import PCA,TruncatedSVD\n",
        "from sklearn.svm import LinearSVC\n",
        "n = 30 "
      ],
      "execution_count": null,
      "outputs": []
    },
    {
      "cell_type": "code",
      "metadata": {
        "id": "-iOXHZnhHkgA",
        "colab": {
          "base_uri": "https://localhost:8080/",
          "height": 54
        },
        "outputId": "fe761d31-d2e2-47c8-8df5-0b74397b9cf0"
      },
      "source": [
        "rfe = RFE(DTC, n).fit(x,y)\n",
        "\n",
        "desiredIndices = np.where(rfe.support_==True)[0]\n",
        "whitelist = X_train.columns.values[desiredIndices]\n",
        "X_train_RFE,X_test_RFE = X_train[whitelist],X_test[whitelist]\n",
        "\n",
        "\n",
        "eclf = VotingClassifier(estimators=[('DecisionTreeClassifier', DTC), ('RandomForestClassifier', RFC),('ExtraTreesClassifier',ETC)], voting='hard')\n",
        "_ = eclf.fit(X_train_RFE,y_train)\n",
        "pred = eclf.score(X_test_RFE,y_test)\n",
        "\n",
        "print(\"Acc: %0.10f\" % (pred))\n",
        "print(\"number of features\",X_train_RFE.shape[1])"
      ],
      "execution_count": null,
      "outputs": [
        {
          "output_type": "stream",
          "text": [
            "Acc: 0.9931723609\n",
            "number of features 30\n"
          ],
          "name": "stdout"
        }
      ]
    },
    {
      "cell_type": "markdown",
      "metadata": {
        "id": "de-bqkRqL5R4"
      },
      "source": [
        "The above cell shows the tradeoff of garbagings the least useful features"
      ]
    },
    {
      "cell_type": "code",
      "metadata": {
        "id": "v9RcHtOGHkie",
        "colab": {
          "base_uri": "https://localhost:8080/",
          "height": 35
        },
        "outputId": "c6bdecd7-b35b-4be2-9b84-7c4fedbae486"
      },
      "source": [
        "svd = TruncatedSVD(n_components=n-20) \n",
        "_ = svd.fit(X_train_RFE)  \n",
        "\n",
        "X_train_svd, X_test_svd = svd.transform(X_train_RFE), svd.transform(X_test_RFE)\n",
        "\n",
        "eclf = VotingClassifier(estimators=[('DecisionTreeClassifier', DTC), ('RandomForestClassifier', RFC),('ExtraTreesClassifier',ETC)], voting='hard')\n",
        "_ = eclf.fit(X_train_svd,y_train)\n",
        "\n",
        "pred = eclf.score(X_test_svd,y_test)\n",
        "print(\"Acc: %0.10f\" % (pred))\n",
        "print(\"number of features\",X_train_svd.shape[1])\n",
        "\n",
        "print(len(svd.components_) , \"components,\",len(svd.components_[0]), \" length\")\n",
        "\n",
        "'''\n",
        "Acc: 0.9921219548\n",
        "number of features 20\n",
        "----\n",
        "Acc: 0.9851461815\n",
        "number of features 10\n",
        "'''"
      ],
      "execution_count": null,
      "outputs": [
        {
          "output_type": "execute_result",
          "data": {
            "text/plain": [
              "'\\nAcc: 0.9921219548\\nnumber of features 20\\n----\\nAcc: 0.9851461815\\nnumber of features 10\\n'"
            ]
          },
          "metadata": {
            "tags": []
          },
          "execution_count": 10
        }
      ]
    },
    {
      "cell_type": "markdown",
      "metadata": {
        "id": "f3gqhZeCCQRS"
      },
      "source": [
        "# Benchmark post feature reduction"
      ]
    },
    {
      "cell_type": "code",
      "metadata": {
        "id": "KozdNU1ZCL25",
        "colab": {
          "base_uri": "https://localhost:8080/",
          "height": 108
        },
        "outputId": "ca9a917b-27fa-4437-bc12-1b9e5546cf27"
      },
      "source": [
        "print(X_train_svd.shape)\n",
        "\n",
        "DTC = DecisionTreeClassifier() \n",
        "RFC = RandomForestClassifier(n_estimators=25, random_state=1)\n",
        "ETC = ExtraTreesClassifier(n_estimators=10, criterion='gini', max_features='auto', bootstrap=False)\n",
        "\n",
        "eclf = VotingClassifier(estimators=[('lr', DTC), ('rf', RFC),('et',ETC)], voting='hard') \n",
        "for clf, label in zip([DTC, RFC,ETC, eclf], ['DecisionTreeClassifier', 'RandomForestClassifier', 'ExtraTreesClassifier', 'Ensemble']): \n",
        "    _ = eclf.fit(X_train_svd,y_train)\n",
        "    pred = eclf.score(X_test_svd,y_test)\n",
        "    print(\"Acc: %0.10f [%s]\" % (pred,label))"
      ],
      "execution_count": null,
      "outputs": [
        {
          "output_type": "stream",
          "text": [
            "(74257, 10)\n",
            "Acc: 0.9861427206 [DecisionTreeClassifier]\n",
            "Acc: 0.9858464522 [RandomForestClassifier]\n",
            "Acc: 0.9860349866 [ExtraTreesClassifier]\n",
            "Acc: 0.9862100543 [Ensemble]\n"
          ],
          "name": "stdout"
        }
      ]
    },
    {
      "cell_type": "markdown",
      "metadata": {
        "id": "nwrnZAAmMDxd"
      },
      "source": [
        "0.985 for 10 dimensions of data\n",
        "\n",
        "I like this better than 0.9937110306 with 41 features (dimension)"
      ]
    },
    {
      "cell_type": "markdown",
      "metadata": {
        "id": "PBGhBr07Mi7q"
      },
      "source": [
        "# Auto Encoder - not working "
      ]
    },
    {
      "cell_type": "code",
      "metadata": {
        "id": "YHzCcKw-LhhQ",
        "colab": {
          "base_uri": "https://localhost:8080/",
          "height": 54
        },
        "outputId": "ee49a940-36f9-415f-de6a-212038a799ab"
      },
      "source": [
        "gc.collect()\n",
        "print(X_train.shape)\n",
        "print(X_test.shape)\n",
        "# print(X_train_RFE.shape)\n",
        "# print(X_test_RFE.shape)\n",
        "# print(X_train_svd.shape) \n",
        "# print(X_test_svd.shape)\n",
        "\n",
        "from sklearn.preprocessing import minmax_scale # 0.59 \n",
        "from sklearn.preprocessing import StandardScaler # much beter "
      ],
      "execution_count": null,
      "outputs": [
        {
          "output_type": "execute_result",
          "data": {
            "text/plain": [
              "144"
            ]
          },
          "metadata": {
            "tags": []
          },
          "execution_count": 12
        },
        {
          "output_type": "stream",
          "text": [
            "(74257, 41)\n",
            "(74257, 41)\n"
          ],
          "name": "stdout"
        }
      ]
    },
    {
      "cell_type": "code",
      "metadata": {
        "id": "W1Tk03USgHJj"
      },
      "source": [
        "data_xx = data_x.copy()\n",
        "data_xx = StandardScaler().fit_transform(data_xx)\n",
        "X_train, X_test, y_train, y_test = train_test_split(data_xx, data_y, test_size=.5, random_state=42) # TODO\n",
        "\n",
        "svd = TruncatedSVD(n_components=20).fit(X_train) \n",
        "X_train_svd, X_test_svd = svd.transform(X_train), svd.transform(X_test)\n",
        "\n",
        "ss =StandardScaler()\n",
        "X_train_svd= ss.fit_transform(X_train_svd)\n",
        "X_test_svd = ss.transform(X_test_svd)"
      ],
      "execution_count": null,
      "outputs": []
    },
    {
      "cell_type": "code",
      "metadata": {
        "id": "s55slIvZwlbc",
        "colab": {
          "base_uri": "https://localhost:8080/",
          "height": 308
        },
        "outputId": "e836ff23-ad9b-4bbb-e5d6-a9dc7d022c9f"
      },
      "source": [
        "#X_train.shape\n",
        "pd.DataFrame(X_train_svd).describe()"
      ],
      "execution_count": null,
      "outputs": [
        {
          "output_type": "execute_result",
          "data": {
            "text/html": [
              "<div>\n",
              "<style scoped>\n",
              "    .dataframe tbody tr th:only-of-type {\n",
              "        vertical-align: middle;\n",
              "    }\n",
              "\n",
              "    .dataframe tbody tr th {\n",
              "        vertical-align: top;\n",
              "    }\n",
              "\n",
              "    .dataframe thead th {\n",
              "        text-align: right;\n",
              "    }\n",
              "</style>\n",
              "<table border=\"1\" class=\"dataframe\">\n",
              "  <thead>\n",
              "    <tr style=\"text-align: right;\">\n",
              "      <th></th>\n",
              "      <th>0</th>\n",
              "      <th>1</th>\n",
              "      <th>2</th>\n",
              "      <th>3</th>\n",
              "      <th>4</th>\n",
              "      <th>5</th>\n",
              "      <th>6</th>\n",
              "      <th>7</th>\n",
              "      <th>8</th>\n",
              "      <th>9</th>\n",
              "      <th>10</th>\n",
              "      <th>11</th>\n",
              "      <th>12</th>\n",
              "      <th>13</th>\n",
              "      <th>14</th>\n",
              "      <th>15</th>\n",
              "      <th>16</th>\n",
              "      <th>17</th>\n",
              "      <th>18</th>\n",
              "      <th>19</th>\n",
              "    </tr>\n",
              "  </thead>\n",
              "  <tbody>\n",
              "    <tr>\n",
              "      <th>count</th>\n",
              "      <td>7.425700e+04</td>\n",
              "      <td>7.425700e+04</td>\n",
              "      <td>7.425700e+04</td>\n",
              "      <td>7.425700e+04</td>\n",
              "      <td>7.425700e+04</td>\n",
              "      <td>7.425700e+04</td>\n",
              "      <td>7.425700e+04</td>\n",
              "      <td>7.425700e+04</td>\n",
              "      <td>7.425700e+04</td>\n",
              "      <td>7.425700e+04</td>\n",
              "      <td>7.425700e+04</td>\n",
              "      <td>7.425700e+04</td>\n",
              "      <td>7.425700e+04</td>\n",
              "      <td>7.425700e+04</td>\n",
              "      <td>7.425700e+04</td>\n",
              "      <td>7.425700e+04</td>\n",
              "      <td>7.425700e+04</td>\n",
              "      <td>7.425700e+04</td>\n",
              "      <td>7.425700e+04</td>\n",
              "      <td>7.425700e+04</td>\n",
              "    </tr>\n",
              "    <tr>\n",
              "      <th>mean</th>\n",
              "      <td>-5.931994e-17</td>\n",
              "      <td>-4.786255e-17</td>\n",
              "      <td>-9.060360e-19</td>\n",
              "      <td>2.713436e-18</td>\n",
              "      <td>3.659279e-18</td>\n",
              "      <td>5.977221e-17</td>\n",
              "      <td>7.995842e-17</td>\n",
              "      <td>-5.523652e-17</td>\n",
              "      <td>-4.996542e-17</td>\n",
              "      <td>2.681067e-17</td>\n",
              "      <td>-5.501440e-18</td>\n",
              "      <td>5.245066e-17</td>\n",
              "      <td>-5.625721e-17</td>\n",
              "      <td>-3.385618e-17</td>\n",
              "      <td>4.463073e-18</td>\n",
              "      <td>-3.644328e-19</td>\n",
              "      <td>1.506920e-17</td>\n",
              "      <td>-1.786307e-17</td>\n",
              "      <td>-8.147689e-18</td>\n",
              "      <td>1.012936e-17</td>\n",
              "    </tr>\n",
              "    <tr>\n",
              "      <th>std</th>\n",
              "      <td>1.000007e+00</td>\n",
              "      <td>1.000007e+00</td>\n",
              "      <td>1.000007e+00</td>\n",
              "      <td>1.000007e+00</td>\n",
              "      <td>1.000007e+00</td>\n",
              "      <td>1.000007e+00</td>\n",
              "      <td>1.000007e+00</td>\n",
              "      <td>1.000007e+00</td>\n",
              "      <td>1.000007e+00</td>\n",
              "      <td>1.000007e+00</td>\n",
              "      <td>1.000007e+00</td>\n",
              "      <td>1.000007e+00</td>\n",
              "      <td>1.000007e+00</td>\n",
              "      <td>1.000007e+00</td>\n",
              "      <td>1.000007e+00</td>\n",
              "      <td>1.000007e+00</td>\n",
              "      <td>1.000007e+00</td>\n",
              "      <td>1.000007e+00</td>\n",
              "      <td>1.000007e+00</td>\n",
              "      <td>1.000007e+00</td>\n",
              "    </tr>\n",
              "    <tr>\n",
              "      <th>min</th>\n",
              "      <td>-1.326392e+00</td>\n",
              "      <td>-1.151137e+00</td>\n",
              "      <td>-2.413708e+00</td>\n",
              "      <td>-3.487665e+00</td>\n",
              "      <td>-2.104753e+00</td>\n",
              "      <td>-2.674641e+01</td>\n",
              "      <td>-8.434520e+00</td>\n",
              "      <td>-7.499560e+00</td>\n",
              "      <td>-8.542724e-01</td>\n",
              "      <td>-9.090700e+01</td>\n",
              "      <td>-2.041504e+01</td>\n",
              "      <td>-1.095229e+01</td>\n",
              "      <td>-1.408173e+01</td>\n",
              "      <td>-2.412788e+01</td>\n",
              "      <td>-3.065357e+01</td>\n",
              "      <td>-1.859074e+01</td>\n",
              "      <td>-7.435948e+00</td>\n",
              "      <td>-2.015774e+01</td>\n",
              "      <td>-2.596260e+01</td>\n",
              "      <td>-1.242226e+01</td>\n",
              "    </tr>\n",
              "    <tr>\n",
              "      <th>25%</th>\n",
              "      <td>-8.755797e-01</td>\n",
              "      <td>-3.913524e-01</td>\n",
              "      <td>-5.128250e-01</td>\n",
              "      <td>-1.767810e-01</td>\n",
              "      <td>-9.207745e-02</td>\n",
              "      <td>-1.930832e-01</td>\n",
              "      <td>-2.264271e-01</td>\n",
              "      <td>-2.968542e-01</td>\n",
              "      <td>-7.007081e-02</td>\n",
              "      <td>-9.728091e-02</td>\n",
              "      <td>-4.405853e-02</td>\n",
              "      <td>-2.080524e-01</td>\n",
              "      <td>-1.489525e-01</td>\n",
              "      <td>-1.581456e-01</td>\n",
              "      <td>-1.245313e-01</td>\n",
              "      <td>-5.241785e-01</td>\n",
              "      <td>-6.029555e-01</td>\n",
              "      <td>-2.893544e-01</td>\n",
              "      <td>-5.997300e-02</td>\n",
              "      <td>-5.361539e-01</td>\n",
              "    </tr>\n",
              "    <tr>\n",
              "      <th>50%</th>\n",
              "      <td>-5.020869e-01</td>\n",
              "      <td>-1.233750e-01</td>\n",
              "      <td>3.230989e-02</td>\n",
              "      <td>6.118126e-02</td>\n",
              "      <td>-3.726680e-02</td>\n",
              "      <td>-1.047378e-01</td>\n",
              "      <td>2.602396e-01</td>\n",
              "      <td>4.433327e-03</td>\n",
              "      <td>-2.832086e-02</td>\n",
              "      <td>-3.282730e-02</td>\n",
              "      <td>2.256744e-02</td>\n",
              "      <td>2.599542e-02</td>\n",
              "      <td>-3.707194e-02</td>\n",
              "      <td>-5.999457e-02</td>\n",
              "      <td>-1.571433e-02</td>\n",
              "      <td>6.781884e-02</td>\n",
              "      <td>-2.921378e-02</td>\n",
              "      <td>3.065591e-03</td>\n",
              "      <td>-6.431958e-03</td>\n",
              "      <td>3.913307e-02</td>\n",
              "    </tr>\n",
              "    <tr>\n",
              "      <th>75%</th>\n",
              "      <td>1.204626e+00</td>\n",
              "      <td>1.852484e-02</td>\n",
              "      <td>2.398357e-01</td>\n",
              "      <td>1.710523e-01</td>\n",
              "      <td>2.798611e-02</td>\n",
              "      <td>4.613763e-02</td>\n",
              "      <td>6.220538e-01</td>\n",
              "      <td>3.710084e-01</td>\n",
              "      <td>7.139207e-02</td>\n",
              "      <td>3.499273e-02</td>\n",
              "      <td>1.300525e-01</td>\n",
              "      <td>2.306683e-01</td>\n",
              "      <td>1.217623e-01</td>\n",
              "      <td>9.623254e-02</td>\n",
              "      <td>6.444027e-02</td>\n",
              "      <td>4.085296e-01</td>\n",
              "      <td>1.346024e-01</td>\n",
              "      <td>3.824667e-01</td>\n",
              "      <td>5.212486e-02</td>\n",
              "      <td>4.492619e-01</td>\n",
              "    </tr>\n",
              "    <tr>\n",
              "      <th>max</th>\n",
              "      <td>2.005726e+00</td>\n",
              "      <td>4.526969e+00</td>\n",
              "      <td>1.194687e+01</td>\n",
              "      <td>4.274254e+01</td>\n",
              "      <td>2.540734e+02</td>\n",
              "      <td>5.280319e+01</td>\n",
              "      <td>1.977229e+01</td>\n",
              "      <td>1.858820e+01</td>\n",
              "      <td>5.991677e+01</td>\n",
              "      <td>1.076784e+02</td>\n",
              "      <td>1.185268e+02</td>\n",
              "      <td>1.232672e+02</td>\n",
              "      <td>1.533263e+02</td>\n",
              "      <td>6.612642e+01</td>\n",
              "      <td>7.060549e+01</td>\n",
              "      <td>4.576437e+01</td>\n",
              "      <td>2.774570e+01</td>\n",
              "      <td>8.457870e+01</td>\n",
              "      <td>1.307231e+02</td>\n",
              "      <td>1.358720e+01</td>\n",
              "    </tr>\n",
              "  </tbody>\n",
              "</table>\n",
              "</div>"
            ],
            "text/plain": [
              "                 0             1   ...            18            19\n",
              "count  7.425700e+04  7.425700e+04  ...  7.425700e+04  7.425700e+04\n",
              "mean  -5.931994e-17 -4.786255e-17  ... -8.147689e-18  1.012936e-17\n",
              "std    1.000007e+00  1.000007e+00  ...  1.000007e+00  1.000007e+00\n",
              "min   -1.326392e+00 -1.151137e+00  ... -2.596260e+01 -1.242226e+01\n",
              "25%   -8.755797e-01 -3.913524e-01  ... -5.997300e-02 -5.361539e-01\n",
              "50%   -5.020869e-01 -1.233750e-01  ... -6.431958e-03  3.913307e-02\n",
              "75%    1.204626e+00  1.852484e-02  ...  5.212486e-02  4.492619e-01\n",
              "max    2.005726e+00  4.526969e+00  ...  1.307231e+02  1.358720e+01\n",
              "\n",
              "[8 rows x 20 columns]"
            ]
          },
          "metadata": {
            "tags": []
          },
          "execution_count": 14
        }
      ]
    },
    {
      "cell_type": "markdown",
      "metadata": {
        "id": "HGFhrkeeWW5Q"
      },
      "source": [
        "[source used](https://medium.com/@curiousily/credit-card-fraud-detection-using-autoencoders-in-keras-tensorflow-for-hackers-part-vii-20e0c85301bd)"
      ]
    },
    {
      "cell_type": "code",
      "metadata": {
        "id": "qN5oyD7GUaFo",
        "colab": {
          "base_uri": "https://localhost:8080/",
          "height": 126
        },
        "outputId": "043eadb3-dea6-4ee2-e091-b94536673848"
      },
      "source": [
        "input_dim = X_train_svd.shape[1]\n",
        "encoding_dim = 16\n",
        "input_layer = Input(shape=(input_dim, ))\n",
        "\n",
        "#encoder= BatchNormalization()(input_layer)\n",
        "encoder = Dense(encoding_dim, activation=\"tanh\", \n",
        "                activity_regularizer=regularizers.l1(10e-5))(input_layer)\n",
        "encoder = Dense(int(encoding_dim / 2), activation=\"relu\")(encoder)\n",
        "decoder = Dense(int(encoding_dim / 2), activation='tanh')(encoder)\n",
        "decoder = Dense(input_dim, activation='relu')(decoder)\n",
        "autoencoder = Model(inputs=input_layer, outputs=decoder)"
      ],
      "execution_count": null,
      "outputs": [
        {
          "output_type": "stream",
          "text": [
            "WARNING:tensorflow:From /usr/local/lib/python3.6/dist-packages/keras/backend/tensorflow_backend.py:66: The name tf.get_default_graph is deprecated. Please use tf.compat.v1.get_default_graph instead.\n",
            "\n",
            "WARNING:tensorflow:From /usr/local/lib/python3.6/dist-packages/keras/backend/tensorflow_backend.py:541: The name tf.placeholder is deprecated. Please use tf.compat.v1.placeholder instead.\n",
            "\n",
            "WARNING:tensorflow:From /usr/local/lib/python3.6/dist-packages/keras/backend/tensorflow_backend.py:4432: The name tf.random_uniform is deprecated. Please use tf.random.uniform instead.\n",
            "\n"
          ],
          "name": "stdout"
        }
      ]
    },
    {
      "cell_type": "code",
      "metadata": {
        "id": "ehq048hauElU"
      },
      "source": [
        "# input_dim = X_train.shape[1]\n",
        "# encoding_dim = 14\n",
        "\n",
        "# input_layer = Input(shape=(input_dim, ))\n",
        "\n",
        "# encoder = Dense(encoding_dim, activation=\"tanh\", \n",
        "#                 activity_regularizer=regularizers.l1(10e-5))(input_layer)\n",
        "# encoder = Dense(int(encoding_dim / 2), activation=\"relu\")(encoder)\n",
        "\n",
        "# decoder = Dense(int(encoding_dim / 2), activation='tanh')(encoder)\n",
        "# decoder = Dense(input_dim, activation='relu')(decoder)\n",
        "\n",
        "# autoencoder = Model(inputs=input_layer, outputs=decoder"
      ],
      "execution_count": null,
      "outputs": []
    },
    {
      "cell_type": "code",
      "metadata": {
        "id": "ZShEWRPkUaIv",
        "colab": {
          "base_uri": "https://localhost:8080/",
          "height": 54
        },
        "outputId": "72c6e273-66e1-4766-e57f-153cb60ce0b2"
      },
      "source": [
        "nb_epoch = 150\n",
        "batch_size = 32\n",
        "autoencoder.compile(optimizer='adam', \n",
        "                    loss='mean_squared_error', # mean_squared_error\n",
        "                    metrics=['accuracy'])\n",
        "tensorboard = TensorBoard(histogram_freq=0,\n",
        "                          write_graph=True,\n",
        "                          write_images=True)\n",
        "\n",
        "# from keras.utils import plot_model\n",
        "# plot_model(autoencoder)"
      ],
      "execution_count": null,
      "outputs": [
        {
          "output_type": "stream",
          "text": [
            "WARNING:tensorflow:From /usr/local/lib/python3.6/dist-packages/keras/optimizers.py:793: The name tf.train.Optimizer is deprecated. Please use tf.compat.v1.train.Optimizer instead.\n",
            "\n"
          ],
          "name": "stdout"
        }
      ]
    },
    {
      "cell_type": "code",
      "metadata": {
        "id": "Z0Re_4xlfNXq",
        "colab": {
          "base_uri": "https://localhost:8080/",
          "height": 1000
        },
        "outputId": "b3df9aa4-f2d6-4a45-cb15-e610d4f3fd63"
      },
      "source": [
        "history = autoencoder.fit(X_train_svd, X_train_svd,\n",
        "                    epochs=nb_epoch,\n",
        "                    batch_size=batch_size,\n",
        "                    shuffle=True,\n",
        "                    validation_data=(X_test_svd, X_test_svd),\n",
        "                    verbose=1,\n",
        "                    callbacks=[tensorboard]).history"
      ],
      "execution_count": null,
      "outputs": [
        {
          "output_type": "stream",
          "text": [
            "WARNING:tensorflow:From /usr/local/lib/python3.6/dist-packages/keras/backend/tensorflow_backend.py:1033: The name tf.assign_add is deprecated. Please use tf.compat.v1.assign_add instead.\n",
            "\n",
            "WARNING:tensorflow:From /usr/local/lib/python3.6/dist-packages/keras/backend/tensorflow_backend.py:1020: The name tf.assign is deprecated. Please use tf.compat.v1.assign instead.\n",
            "\n",
            "WARNING:tensorflow:From /usr/local/lib/python3.6/dist-packages/keras/backend/tensorflow_backend.py:3005: The name tf.Session is deprecated. Please use tf.compat.v1.Session instead.\n",
            "\n",
            "Train on 74257 samples, validate on 74257 samples\n",
            "WARNING:tensorflow:From /usr/local/lib/python3.6/dist-packages/keras/backend/tensorflow_backend.py:190: The name tf.get_default_session is deprecated. Please use tf.compat.v1.get_default_session instead.\n",
            "\n",
            "WARNING:tensorflow:From /usr/local/lib/python3.6/dist-packages/keras/backend/tensorflow_backend.py:197: The name tf.ConfigProto is deprecated. Please use tf.compat.v1.ConfigProto instead.\n",
            "\n",
            "WARNING:tensorflow:From /usr/local/lib/python3.6/dist-packages/keras/backend/tensorflow_backend.py:207: The name tf.global_variables is deprecated. Please use tf.compat.v1.global_variables instead.\n",
            "\n",
            "WARNING:tensorflow:From /usr/local/lib/python3.6/dist-packages/keras/backend/tensorflow_backend.py:216: The name tf.is_variable_initialized is deprecated. Please use tf.compat.v1.is_variable_initialized instead.\n",
            "\n",
            "WARNING:tensorflow:From /usr/local/lib/python3.6/dist-packages/keras/backend/tensorflow_backend.py:223: The name tf.variables_initializer is deprecated. Please use tf.compat.v1.variables_initializer instead.\n",
            "\n",
            "WARNING:tensorflow:From /usr/local/lib/python3.6/dist-packages/keras/callbacks.py:1122: The name tf.summary.merge_all is deprecated. Please use tf.compat.v1.summary.merge_all instead.\n",
            "\n",
            "WARNING:tensorflow:From /usr/local/lib/python3.6/dist-packages/keras/callbacks.py:1125: The name tf.summary.FileWriter is deprecated. Please use tf.compat.v1.summary.FileWriter instead.\n",
            "\n",
            "Epoch 1/150\n",
            "74257/74257 [==============================] - 10s 133us/step - loss: 0.8359 - acc: 0.6224 - val_loss: 0.8649 - val_acc: 0.7898\n",
            "WARNING:tensorflow:From /usr/local/lib/python3.6/dist-packages/keras/callbacks.py:1265: The name tf.Summary is deprecated. Please use tf.compat.v1.Summary instead.\n",
            "\n",
            "Epoch 2/150\n",
            "74257/74257 [==============================] - 9s 121us/step - loss: 0.7598 - acc: 0.8207 - val_loss: 0.8271 - val_acc: 0.8317\n",
            "Epoch 3/150\n",
            "74257/74257 [==============================] - 9s 121us/step - loss: 0.7319 - acc: 0.8449 - val_loss: 0.7990 - val_acc: 0.8636\n",
            "Epoch 4/150\n",
            "74257/74257 [==============================] - 9s 120us/step - loss: 0.7097 - acc: 0.8763 - val_loss: 0.7803 - val_acc: 0.8718\n",
            "Epoch 5/150\n",
            "74257/74257 [==============================] - 9s 121us/step - loss: 0.6983 - acc: 0.8818 - val_loss: 0.7663 - val_acc: 0.8892\n",
            "Epoch 6/150\n",
            "74257/74257 [==============================] - 9s 122us/step - loss: 0.6897 - acc: 0.8834 - val_loss: 0.7563 - val_acc: 0.8926\n",
            "Epoch 7/150\n",
            "74257/74257 [==============================] - 9s 121us/step - loss: 0.6822 - acc: 0.8849 - val_loss: 0.7489 - val_acc: 0.8787\n",
            "Epoch 8/150\n",
            "74257/74257 [==============================] - 9s 121us/step - loss: 0.6762 - acc: 0.8822 - val_loss: 0.7379 - val_acc: 0.8859\n",
            "Epoch 9/150\n",
            "74257/74257 [==============================] - 9s 120us/step - loss: 0.6706 - acc: 0.8832 - val_loss: 0.7316 - val_acc: 0.8674\n",
            "Epoch 10/150\n",
            "74257/74257 [==============================] - 9s 120us/step - loss: 0.6646 - acc: 0.8804 - val_loss: 0.7222 - val_acc: 0.8943\n",
            "Epoch 11/150\n",
            "74257/74257 [==============================] - 9s 120us/step - loss: 0.6566 - acc: 0.8789 - val_loss: 0.7151 - val_acc: 0.8737\n",
            "Epoch 12/150\n",
            "74257/74257 [==============================] - 9s 120us/step - loss: 0.6478 - acc: 0.8780 - val_loss: 0.6997 - val_acc: 0.8947\n",
            "Epoch 13/150\n",
            "74257/74257 [==============================] - 9s 121us/step - loss: 0.6398 - acc: 0.8804 - val_loss: 0.6937 - val_acc: 0.8964\n",
            "Epoch 14/150\n",
            "74257/74257 [==============================] - 9s 120us/step - loss: 0.6335 - acc: 0.8888 - val_loss: 0.6859 - val_acc: 0.9003\n",
            "Epoch 15/150\n",
            "74257/74257 [==============================] - 9s 121us/step - loss: 0.6271 - acc: 0.8908 - val_loss: 0.6835 - val_acc: 0.9097\n",
            "Epoch 16/150\n",
            "74257/74257 [==============================] - 9s 122us/step - loss: 0.6215 - acc: 0.8950 - val_loss: 0.6762 - val_acc: 0.8924\n",
            "Epoch 17/150\n",
            "74257/74257 [==============================] - 9s 120us/step - loss: 0.6173 - acc: 0.8967 - val_loss: 0.6714 - val_acc: 0.9050\n",
            "Epoch 18/150\n",
            "74257/74257 [==============================] - 9s 120us/step - loss: 0.6118 - acc: 0.8998 - val_loss: 0.6673 - val_acc: 0.9100\n",
            "Epoch 19/150\n",
            "74257/74257 [==============================] - 9s 119us/step - loss: 0.6092 - acc: 0.9000 - val_loss: 0.6649 - val_acc: 0.9128\n",
            "Epoch 20/150\n",
            "74257/74257 [==============================] - 9s 121us/step - loss: 0.6052 - acc: 0.9021 - val_loss: 0.6647 - val_acc: 0.8932\n",
            "Epoch 21/150\n",
            "74257/74257 [==============================] - 9s 119us/step - loss: 0.6029 - acc: 0.9015 - val_loss: 0.6596 - val_acc: 0.9112\n",
            "Epoch 22/150\n",
            "74257/74257 [==============================] - 9s 119us/step - loss: 0.5995 - acc: 0.9033 - val_loss: 0.6548 - val_acc: 0.8967\n",
            "Epoch 23/150\n",
            "74257/74257 [==============================] - 9s 119us/step - loss: 0.5960 - acc: 0.9012 - val_loss: 0.6538 - val_acc: 0.9048\n",
            "Epoch 24/150\n",
            "74257/74257 [==============================] - 9s 120us/step - loss: 0.5952 - acc: 0.9009 - val_loss: 0.6558 - val_acc: 0.8908\n",
            "Epoch 25/150\n",
            "74257/74257 [==============================] - 9s 119us/step - loss: 0.5923 - acc: 0.8997 - val_loss: 0.6488 - val_acc: 0.9164\n",
            "Epoch 26/150\n",
            "74257/74257 [==============================] - 9s 119us/step - loss: 0.5890 - acc: 0.8987 - val_loss: 0.6452 - val_acc: 0.9074\n",
            "Epoch 27/150\n",
            "74257/74257 [==============================] - 9s 119us/step - loss: 0.5862 - acc: 0.8985 - val_loss: 0.6457 - val_acc: 0.9121\n",
            "Epoch 28/150\n",
            "74257/74257 [==============================] - 9s 119us/step - loss: 0.5836 - acc: 0.9013 - val_loss: 0.6406 - val_acc: 0.9020\n",
            "Epoch 29/150\n",
            "74257/74257 [==============================] - 9s 118us/step - loss: 0.5806 - acc: 0.8992 - val_loss: 0.6378 - val_acc: 0.9030\n",
            "Epoch 30/150\n",
            "74257/74257 [==============================] - 9s 126us/step - loss: 0.5780 - acc: 0.8997 - val_loss: 0.6360 - val_acc: 0.8987\n",
            "Epoch 31/150\n",
            "74257/74257 [==============================] - 9s 121us/step - loss: 0.5766 - acc: 0.8968 - val_loss: 0.6354 - val_acc: 0.8933\n",
            "Epoch 32/150\n",
            "74257/74257 [==============================] - 9s 120us/step - loss: 0.5762 - acc: 0.8983 - val_loss: 0.6339 - val_acc: 0.8999\n",
            "Epoch 33/150\n",
            "74257/74257 [==============================] - 9s 121us/step - loss: 0.5717 - acc: 0.8961 - val_loss: 0.6324 - val_acc: 0.8803\n",
            "Epoch 34/150\n",
            "74257/74257 [==============================] - 9s 120us/step - loss: 0.5706 - acc: 0.8976 - val_loss: 0.6299 - val_acc: 0.9012\n",
            "Epoch 35/150\n",
            "74257/74257 [==============================] - 9s 116us/step - loss: 0.5681 - acc: 0.8965 - val_loss: 0.6238 - val_acc: 0.9057\n",
            "Epoch 36/150\n",
            "74257/74257 [==============================] - 8s 114us/step - loss: 0.5668 - acc: 0.8956 - val_loss: 0.6323 - val_acc: 0.9053\n",
            "Epoch 37/150\n",
            "74257/74257 [==============================] - 9s 116us/step - loss: 0.5648 - acc: 0.8961 - val_loss: 0.6229 - val_acc: 0.8984\n",
            "Epoch 38/150\n",
            "74257/74257 [==============================] - 9s 117us/step - loss: 0.5648 - acc: 0.8957 - val_loss: 0.6228 - val_acc: 0.8777\n",
            "Epoch 39/150\n",
            "74257/74257 [==============================] - 9s 120us/step - loss: 0.5598 - acc: 0.8999 - val_loss: 0.6172 - val_acc: 0.8980\n",
            "Epoch 40/150\n",
            "74257/74257 [==============================] - 9s 117us/step - loss: 0.5590 - acc: 0.8955 - val_loss: 0.6183 - val_acc: 0.9058\n",
            "Epoch 41/150\n",
            "74257/74257 [==============================] - 9s 119us/step - loss: 0.5596 - acc: 0.8913 - val_loss: 0.6142 - val_acc: 0.8966\n",
            "Epoch 42/150\n",
            "74257/74257 [==============================] - 9s 120us/step - loss: 0.5561 - acc: 0.8940 - val_loss: 0.6169 - val_acc: 0.8891\n",
            "Epoch 43/150\n",
            "74257/74257 [==============================] - 9s 118us/step - loss: 0.5545 - acc: 0.8944 - val_loss: 0.6122 - val_acc: 0.9024\n",
            "Epoch 44/150\n",
            "74257/74257 [==============================] - 9s 118us/step - loss: 0.5529 - acc: 0.8932 - val_loss: 0.6105 - val_acc: 0.9067\n",
            "Epoch 45/150\n",
            "74257/74257 [==============================] - 9s 117us/step - loss: 0.5512 - acc: 0.8935 - val_loss: 0.6065 - val_acc: 0.9043\n",
            "Epoch 46/150\n",
            "74257/74257 [==============================] - 9s 118us/step - loss: 0.5507 - acc: 0.8909 - val_loss: 0.6089 - val_acc: 0.9109\n",
            "Epoch 47/150\n",
            "74257/74257 [==============================] - 9s 115us/step - loss: 0.5524 - acc: 0.8935 - val_loss: 0.6064 - val_acc: 0.8888\n",
            "Epoch 48/150\n",
            "74257/74257 [==============================] - 9s 115us/step - loss: 0.5471 - acc: 0.8916 - val_loss: 0.6085 - val_acc: 0.8983\n",
            "Epoch 49/150\n",
            "74257/74257 [==============================] - 9s 116us/step - loss: 0.5445 - acc: 0.8904 - val_loss: 0.6015 - val_acc: 0.8863\n",
            "Epoch 50/150\n",
            "74257/74257 [==============================] - 9s 115us/step - loss: 0.5441 - acc: 0.8903 - val_loss: 0.6015 - val_acc: 0.8748\n",
            "Epoch 51/150\n",
            "74257/74257 [==============================] - 9s 119us/step - loss: 0.5410 - acc: 0.8915 - val_loss: 0.5975 - val_acc: 0.8935\n",
            "Epoch 52/150\n",
            "74257/74257 [==============================] - 9s 116us/step - loss: 0.5421 - acc: 0.8893 - val_loss: 0.6030 - val_acc: 0.8886\n",
            "Epoch 53/150\n",
            "74257/74257 [==============================] - 9s 116us/step - loss: 0.5414 - acc: 0.8916 - val_loss: 0.5962 - val_acc: 0.8949\n",
            "Epoch 54/150\n",
            "74257/74257 [==============================] - 9s 116us/step - loss: 0.5390 - acc: 0.8892 - val_loss: 0.5978 - val_acc: 0.9038\n",
            "Epoch 55/150\n",
            "74257/74257 [==============================] - 9s 116us/step - loss: 0.5423 - acc: 0.8923 - val_loss: 0.5950 - val_acc: 0.8890\n",
            "Epoch 56/150\n",
            "74257/74257 [==============================] - 9s 118us/step - loss: 0.5366 - acc: 0.8914 - val_loss: 0.6015 - val_acc: 0.8594\n",
            "Epoch 57/150\n",
            "74257/74257 [==============================] - 9s 117us/step - loss: 0.5384 - acc: 0.8882 - val_loss: 0.5907 - val_acc: 0.9013\n",
            "Epoch 58/150\n",
            "74257/74257 [==============================] - 9s 116us/step - loss: 0.5350 - acc: 0.8899 - val_loss: 0.5961 - val_acc: 0.8928\n",
            "Epoch 59/150\n",
            "74257/74257 [==============================] - 9s 117us/step - loss: 0.5345 - acc: 0.8877 - val_loss: 0.5919 - val_acc: 0.8984\n",
            "Epoch 60/150\n",
            "74257/74257 [==============================] - 9s 117us/step - loss: 0.5317 - acc: 0.8904 - val_loss: 0.5901 - val_acc: 0.8846\n",
            "Epoch 61/150\n",
            "74257/74257 [==============================] - 9s 118us/step - loss: 0.5338 - acc: 0.8902 - val_loss: 0.5843 - val_acc: 0.8679\n",
            "Epoch 62/150\n",
            "74257/74257 [==============================] - 9s 117us/step - loss: 0.5341 - acc: 0.8873 - val_loss: 0.5856 - val_acc: 0.8502\n",
            "Epoch 63/150\n",
            "74257/74257 [==============================] - 9s 118us/step - loss: 0.5300 - acc: 0.8897 - val_loss: 0.5859 - val_acc: 0.8980\n",
            "Epoch 64/150\n",
            "39392/74257 [==============>...............] - ETA: 2s - loss: 0.5422 - acc: 0.8895"
          ],
          "name": "stdout"
        },
        {
          "output_type": "error",
          "ename": "KeyboardInterrupt",
          "evalue": "ignored",
          "traceback": [
            "\u001b[0;31m---------------------------------------------------------------------------\u001b[0m",
            "\u001b[0;31mKeyboardInterrupt\u001b[0m                         Traceback (most recent call last)",
            "\u001b[0;32m<ipython-input-18-342a6aee132b>\u001b[0m in \u001b[0;36m<module>\u001b[0;34m()\u001b[0m\n\u001b[1;32m      5\u001b[0m                     \u001b[0mvalidation_data\u001b[0m\u001b[0;34m=\u001b[0m\u001b[0;34m(\u001b[0m\u001b[0mX_test_svd\u001b[0m\u001b[0;34m,\u001b[0m \u001b[0mX_test_svd\u001b[0m\u001b[0;34m)\u001b[0m\u001b[0;34m,\u001b[0m\u001b[0;34m\u001b[0m\u001b[0;34m\u001b[0m\u001b[0m\n\u001b[1;32m      6\u001b[0m                     \u001b[0mverbose\u001b[0m\u001b[0;34m=\u001b[0m\u001b[0;36m1\u001b[0m\u001b[0;34m,\u001b[0m\u001b[0;34m\u001b[0m\u001b[0;34m\u001b[0m\u001b[0m\n\u001b[0;32m----> 7\u001b[0;31m                     callbacks=[tensorboard]).history\n\u001b[0m",
            "\u001b[0;32m/usr/local/lib/python3.6/dist-packages/keras/engine/training.py\u001b[0m in \u001b[0;36mfit\u001b[0;34m(self, x, y, batch_size, epochs, verbose, callbacks, validation_split, validation_data, shuffle, class_weight, sample_weight, initial_epoch, steps_per_epoch, validation_steps, validation_freq, max_queue_size, workers, use_multiprocessing, **kwargs)\u001b[0m\n\u001b[1;32m   1176\u001b[0m                                         \u001b[0msteps_per_epoch\u001b[0m\u001b[0;34m=\u001b[0m\u001b[0msteps_per_epoch\u001b[0m\u001b[0;34m,\u001b[0m\u001b[0;34m\u001b[0m\u001b[0;34m\u001b[0m\u001b[0m\n\u001b[1;32m   1177\u001b[0m                                         \u001b[0mvalidation_steps\u001b[0m\u001b[0;34m=\u001b[0m\u001b[0mvalidation_steps\u001b[0m\u001b[0;34m,\u001b[0m\u001b[0;34m\u001b[0m\u001b[0;34m\u001b[0m\u001b[0m\n\u001b[0;32m-> 1178\u001b[0;31m                                         validation_freq=validation_freq)\n\u001b[0m\u001b[1;32m   1179\u001b[0m \u001b[0;34m\u001b[0m\u001b[0m\n\u001b[1;32m   1180\u001b[0m     def evaluate(self,\n",
            "\u001b[0;32m/usr/local/lib/python3.6/dist-packages/keras/engine/training_arrays.py\u001b[0m in \u001b[0;36mfit_loop\u001b[0;34m(model, fit_function, fit_inputs, out_labels, batch_size, epochs, verbose, callbacks, val_function, val_inputs, shuffle, callback_metrics, initial_epoch, steps_per_epoch, validation_steps, validation_freq)\u001b[0m\n\u001b[1;32m    202\u001b[0m                     \u001b[0mins_batch\u001b[0m\u001b[0;34m[\u001b[0m\u001b[0mi\u001b[0m\u001b[0;34m]\u001b[0m \u001b[0;34m=\u001b[0m \u001b[0mins_batch\u001b[0m\u001b[0;34m[\u001b[0m\u001b[0mi\u001b[0m\u001b[0;34m]\u001b[0m\u001b[0;34m.\u001b[0m\u001b[0mtoarray\u001b[0m\u001b[0;34m(\u001b[0m\u001b[0;34m)\u001b[0m\u001b[0;34m\u001b[0m\u001b[0;34m\u001b[0m\u001b[0m\n\u001b[1;32m    203\u001b[0m \u001b[0;34m\u001b[0m\u001b[0m\n\u001b[0;32m--> 204\u001b[0;31m                 \u001b[0mouts\u001b[0m \u001b[0;34m=\u001b[0m \u001b[0mfit_function\u001b[0m\u001b[0;34m(\u001b[0m\u001b[0mins_batch\u001b[0m\u001b[0;34m)\u001b[0m\u001b[0;34m\u001b[0m\u001b[0;34m\u001b[0m\u001b[0m\n\u001b[0m\u001b[1;32m    205\u001b[0m                 \u001b[0mouts\u001b[0m \u001b[0;34m=\u001b[0m \u001b[0mto_list\u001b[0m\u001b[0;34m(\u001b[0m\u001b[0mouts\u001b[0m\u001b[0;34m)\u001b[0m\u001b[0;34m\u001b[0m\u001b[0;34m\u001b[0m\u001b[0m\n\u001b[1;32m    206\u001b[0m                 \u001b[0;32mfor\u001b[0m \u001b[0ml\u001b[0m\u001b[0;34m,\u001b[0m \u001b[0mo\u001b[0m \u001b[0;32min\u001b[0m \u001b[0mzip\u001b[0m\u001b[0;34m(\u001b[0m\u001b[0mout_labels\u001b[0m\u001b[0;34m,\u001b[0m \u001b[0mouts\u001b[0m\u001b[0;34m)\u001b[0m\u001b[0;34m:\u001b[0m\u001b[0;34m\u001b[0m\u001b[0;34m\u001b[0m\u001b[0m\n",
            "\u001b[0;32m/usr/local/lib/python3.6/dist-packages/keras/backend/tensorflow_backend.py\u001b[0m in \u001b[0;36m__call__\u001b[0;34m(self, inputs)\u001b[0m\n\u001b[1;32m   2977\u001b[0m                     \u001b[0;32mreturn\u001b[0m \u001b[0mself\u001b[0m\u001b[0;34m.\u001b[0m\u001b[0m_legacy_call\u001b[0m\u001b[0;34m(\u001b[0m\u001b[0minputs\u001b[0m\u001b[0;34m)\u001b[0m\u001b[0;34m\u001b[0m\u001b[0;34m\u001b[0m\u001b[0m\n\u001b[1;32m   2978\u001b[0m \u001b[0;34m\u001b[0m\u001b[0m\n\u001b[0;32m-> 2979\u001b[0;31m             \u001b[0;32mreturn\u001b[0m \u001b[0mself\u001b[0m\u001b[0;34m.\u001b[0m\u001b[0m_call\u001b[0m\u001b[0;34m(\u001b[0m\u001b[0minputs\u001b[0m\u001b[0;34m)\u001b[0m\u001b[0;34m\u001b[0m\u001b[0;34m\u001b[0m\u001b[0m\n\u001b[0m\u001b[1;32m   2980\u001b[0m         \u001b[0;32melse\u001b[0m\u001b[0;34m:\u001b[0m\u001b[0;34m\u001b[0m\u001b[0;34m\u001b[0m\u001b[0m\n\u001b[1;32m   2981\u001b[0m             \u001b[0;32mif\u001b[0m \u001b[0mpy_any\u001b[0m\u001b[0;34m(\u001b[0m\u001b[0mis_tensor\u001b[0m\u001b[0;34m(\u001b[0m\u001b[0mx\u001b[0m\u001b[0;34m)\u001b[0m \u001b[0;32mfor\u001b[0m \u001b[0mx\u001b[0m \u001b[0;32min\u001b[0m \u001b[0minputs\u001b[0m\u001b[0;34m)\u001b[0m\u001b[0;34m:\u001b[0m\u001b[0;34m\u001b[0m\u001b[0;34m\u001b[0m\u001b[0m\n",
            "\u001b[0;32m/usr/local/lib/python3.6/dist-packages/keras/backend/tensorflow_backend.py\u001b[0m in \u001b[0;36m_call\u001b[0;34m(self, inputs)\u001b[0m\n\u001b[1;32m   2935\u001b[0m             \u001b[0mfetched\u001b[0m \u001b[0;34m=\u001b[0m \u001b[0mself\u001b[0m\u001b[0;34m.\u001b[0m\u001b[0m_callable_fn\u001b[0m\u001b[0;34m(\u001b[0m\u001b[0;34m*\u001b[0m\u001b[0marray_vals\u001b[0m\u001b[0;34m,\u001b[0m \u001b[0mrun_metadata\u001b[0m\u001b[0;34m=\u001b[0m\u001b[0mself\u001b[0m\u001b[0;34m.\u001b[0m\u001b[0mrun_metadata\u001b[0m\u001b[0;34m)\u001b[0m\u001b[0;34m\u001b[0m\u001b[0;34m\u001b[0m\u001b[0m\n\u001b[1;32m   2936\u001b[0m         \u001b[0;32melse\u001b[0m\u001b[0;34m:\u001b[0m\u001b[0;34m\u001b[0m\u001b[0;34m\u001b[0m\u001b[0m\n\u001b[0;32m-> 2937\u001b[0;31m             \u001b[0mfetched\u001b[0m \u001b[0;34m=\u001b[0m \u001b[0mself\u001b[0m\u001b[0;34m.\u001b[0m\u001b[0m_callable_fn\u001b[0m\u001b[0;34m(\u001b[0m\u001b[0;34m*\u001b[0m\u001b[0marray_vals\u001b[0m\u001b[0;34m)\u001b[0m\u001b[0;34m\u001b[0m\u001b[0;34m\u001b[0m\u001b[0m\n\u001b[0m\u001b[1;32m   2938\u001b[0m         \u001b[0;32mreturn\u001b[0m \u001b[0mfetched\u001b[0m\u001b[0;34m[\u001b[0m\u001b[0;34m:\u001b[0m\u001b[0mlen\u001b[0m\u001b[0;34m(\u001b[0m\u001b[0mself\u001b[0m\u001b[0;34m.\u001b[0m\u001b[0moutputs\u001b[0m\u001b[0;34m)\u001b[0m\u001b[0;34m]\u001b[0m\u001b[0;34m\u001b[0m\u001b[0;34m\u001b[0m\u001b[0m\n\u001b[1;32m   2939\u001b[0m \u001b[0;34m\u001b[0m\u001b[0m\n",
            "\u001b[0;32m/usr/local/lib/python3.6/dist-packages/tensorflow_core/python/client/session.py\u001b[0m in \u001b[0;36m__call__\u001b[0;34m(self, *args, **kwargs)\u001b[0m\n\u001b[1;32m   1470\u001b[0m         ret = tf_session.TF_SessionRunCallable(self._session._session,\n\u001b[1;32m   1471\u001b[0m                                                \u001b[0mself\u001b[0m\u001b[0;34m.\u001b[0m\u001b[0m_handle\u001b[0m\u001b[0;34m,\u001b[0m \u001b[0margs\u001b[0m\u001b[0;34m,\u001b[0m\u001b[0;34m\u001b[0m\u001b[0;34m\u001b[0m\u001b[0m\n\u001b[0;32m-> 1472\u001b[0;31m                                                run_metadata_ptr)\n\u001b[0m\u001b[1;32m   1473\u001b[0m         \u001b[0;32mif\u001b[0m \u001b[0mrun_metadata\u001b[0m\u001b[0;34m:\u001b[0m\u001b[0;34m\u001b[0m\u001b[0;34m\u001b[0m\u001b[0m\n\u001b[1;32m   1474\u001b[0m           \u001b[0mproto_data\u001b[0m \u001b[0;34m=\u001b[0m \u001b[0mtf_session\u001b[0m\u001b[0;34m.\u001b[0m\u001b[0mTF_GetBuffer\u001b[0m\u001b[0;34m(\u001b[0m\u001b[0mrun_metadata_ptr\u001b[0m\u001b[0;34m)\u001b[0m\u001b[0;34m\u001b[0m\u001b[0;34m\u001b[0m\u001b[0m\n",
            "\u001b[0;31mKeyboardInterrupt\u001b[0m: "
          ]
        }
      ]
    },
    {
      "cell_type": "code",
      "metadata": {
        "id": "PyFQhg0iUaSJ",
        "colab": {
          "base_uri": "https://localhost:8080/",
          "height": 244
        },
        "outputId": "b74d013e-4f28-4385-b4ce-6842f6a63338"
      },
      "source": [
        "plt.plot(history['loss'])\n",
        "plt.plot(history['val_loss'])\n",
        "plt.title('model loss')\n",
        "plt.ylabel('loss')\n",
        "plt.xlabel('epoch')\n",
        "plt.legend(['train', 'test'], loc='upper right');"
      ],
      "execution_count": null,
      "outputs": [
        {
          "output_type": "error",
          "ename": "NameError",
          "evalue": "ignored",
          "traceback": [
            "\u001b[0;31m---------------------------------------------------------------------------\u001b[0m",
            "\u001b[0;31mNameError\u001b[0m                                 Traceback (most recent call last)",
            "\u001b[0;32m<ipython-input-19-dd675e12d727>\u001b[0m in \u001b[0;36m<module>\u001b[0;34m()\u001b[0m\n\u001b[0;32m----> 1\u001b[0;31m \u001b[0mplt\u001b[0m\u001b[0;34m.\u001b[0m\u001b[0mplot\u001b[0m\u001b[0;34m(\u001b[0m\u001b[0mhistory\u001b[0m\u001b[0;34m[\u001b[0m\u001b[0;34m'loss'\u001b[0m\u001b[0;34m]\u001b[0m\u001b[0;34m)\u001b[0m\u001b[0;34m\u001b[0m\u001b[0;34m\u001b[0m\u001b[0m\n\u001b[0m\u001b[1;32m      2\u001b[0m \u001b[0mplt\u001b[0m\u001b[0;34m.\u001b[0m\u001b[0mplot\u001b[0m\u001b[0;34m(\u001b[0m\u001b[0mhistory\u001b[0m\u001b[0;34m[\u001b[0m\u001b[0;34m'val_loss'\u001b[0m\u001b[0;34m]\u001b[0m\u001b[0;34m)\u001b[0m\u001b[0;34m\u001b[0m\u001b[0;34m\u001b[0m\u001b[0m\n\u001b[1;32m      3\u001b[0m \u001b[0mplt\u001b[0m\u001b[0;34m.\u001b[0m\u001b[0mtitle\u001b[0m\u001b[0;34m(\u001b[0m\u001b[0;34m'model loss'\u001b[0m\u001b[0;34m)\u001b[0m\u001b[0;34m\u001b[0m\u001b[0;34m\u001b[0m\u001b[0m\n\u001b[1;32m      4\u001b[0m \u001b[0mplt\u001b[0m\u001b[0;34m.\u001b[0m\u001b[0mylabel\u001b[0m\u001b[0;34m(\u001b[0m\u001b[0;34m'loss'\u001b[0m\u001b[0;34m)\u001b[0m\u001b[0;34m\u001b[0m\u001b[0;34m\u001b[0m\u001b[0m\n\u001b[1;32m      5\u001b[0m \u001b[0mplt\u001b[0m\u001b[0;34m.\u001b[0m\u001b[0mxlabel\u001b[0m\u001b[0;34m(\u001b[0m\u001b[0;34m'epoch'\u001b[0m\u001b[0;34m)\u001b[0m\u001b[0;34m\u001b[0m\u001b[0;34m\u001b[0m\u001b[0m\n",
            "\u001b[0;31mNameError\u001b[0m: name 'history' is not defined"
          ]
        }
      ]
    },
    {
      "cell_type": "code",
      "metadata": {
        "id": "kx1jRyWgUaVZ",
        "colab": {
          "base_uri": "https://localhost:8080/",
          "height": 288
        },
        "outputId": "24256d46-ea8a-461f-f54d-2d71396f62e3"
      },
      "source": [
        "predictions = autoencoder.predict(X_test_svd)\n",
        "mse = np.mean(np.power(X_test_svd - predictions, 2), axis=1)\n",
        "error_df = pd.DataFrame({'reconstruction_error': mse,'true_class': y_test.values.reshape(1,-1)[0]})\n",
        "error_df.describe()"
      ],
      "execution_count": null,
      "outputs": [
        {
          "output_type": "execute_result",
          "data": {
            "text/html": [
              "<div>\n",
              "<style scoped>\n",
              "    .dataframe tbody tr th:only-of-type {\n",
              "        vertical-align: middle;\n",
              "    }\n",
              "\n",
              "    .dataframe tbody tr th {\n",
              "        vertical-align: top;\n",
              "    }\n",
              "\n",
              "    .dataframe thead th {\n",
              "        text-align: right;\n",
              "    }\n",
              "</style>\n",
              "<table border=\"1\" class=\"dataframe\">\n",
              "  <thead>\n",
              "    <tr style=\"text-align: right;\">\n",
              "      <th></th>\n",
              "      <th>reconstruction_error</th>\n",
              "      <th>true_class</th>\n",
              "    </tr>\n",
              "  </thead>\n",
              "  <tbody>\n",
              "    <tr>\n",
              "      <th>count</th>\n",
              "      <td>74257.000000</td>\n",
              "      <td>74257.000000</td>\n",
              "    </tr>\n",
              "    <tr>\n",
              "      <th>mean</th>\n",
              "      <td>0.585880</td>\n",
              "      <td>15.768951</td>\n",
              "    </tr>\n",
              "    <tr>\n",
              "      <th>std</th>\n",
              "      <td>14.078053</td>\n",
              "      <td>4.521670</td>\n",
              "    </tr>\n",
              "    <tr>\n",
              "      <th>min</th>\n",
              "      <td>0.023231</td>\n",
              "      <td>0.000000</td>\n",
              "    </tr>\n",
              "    <tr>\n",
              "      <th>25%</th>\n",
              "      <td>0.090252</td>\n",
              "      <td>14.000000</td>\n",
              "    </tr>\n",
              "    <tr>\n",
              "      <th>50%</th>\n",
              "      <td>0.116053</td>\n",
              "      <td>16.000000</td>\n",
              "    </tr>\n",
              "    <tr>\n",
              "      <th>75%</th>\n",
              "      <td>0.268303</td>\n",
              "      <td>16.000000</td>\n",
              "    </tr>\n",
              "    <tr>\n",
              "      <th>max</th>\n",
              "      <td>1783.029915</td>\n",
              "      <td>39.000000</td>\n",
              "    </tr>\n",
              "  </tbody>\n",
              "</table>\n",
              "</div>"
            ],
            "text/plain": [
              "       reconstruction_error    true_class\n",
              "count          74257.000000  74257.000000\n",
              "mean               0.585880     15.768951\n",
              "std               14.078053      4.521670\n",
              "min                0.023231      0.000000\n",
              "25%                0.090252     14.000000\n",
              "50%                0.116053     16.000000\n",
              "75%                0.268303     16.000000\n",
              "max             1783.029915     39.000000"
            ]
          },
          "metadata": {
            "tags": []
          },
          "execution_count": 24
        }
      ]
    },
    {
      "cell_type": "code",
      "metadata": {
        "id": "qcAy5pgOv-dB",
        "colab": {
          "base_uri": "https://localhost:8080/",
          "height": 54
        },
        "outputId": "818280fe-08e0-496a-9f1e-d51fdf0dda4d"
      },
      "source": [
        "autoencoder.evaluate(X_test_svd,X_test_svd)"
      ],
      "execution_count": null,
      "outputs": [
        {
          "output_type": "stream",
          "text": [
            "74257/74257 [==============================] - 2s 27us/step\n"
          ],
          "name": "stdout"
        },
        {
          "output_type": "execute_result",
          "data": {
            "text/plain": [
              "[0.5894532675636395, 0.9032145117648062]"
            ]
          },
          "metadata": {
            "tags": []
          },
          "execution_count": 30
        }
      ]
    },
    {
      "cell_type": "code",
      "metadata": {
        "id": "9iS1yroRUaX2"
      },
      "source": [
        "# fig = plt.figure()\n",
        "# ax = fig.add_subplot(111)\n",
        "# normal_error_df = error_df[(error_df['true_class']== 0) & (error_df['reconstruction_error'] < 10)]\n",
        "# _ = ax.hist(normal_error_df.reconstruction_error.values, bins=10)\n"
      ],
      "execution_count": null,
      "outputs": []
    },
    {
      "cell_type": "code",
      "metadata": {
        "id": "EvCuHO55UaaS"
      },
      "source": [
        "# fig = plt.figure()\n",
        "# ax = fig.add_subplot(111)\n",
        "# fraud_error_df = error_df[error_df['true_class'] == 1]\n",
        "# _ = ax.hist(fraud_error_df.reconstruction_error.values, bins=10)"
      ],
      "execution_count": null,
      "outputs": []
    },
    {
      "cell_type": "code",
      "metadata": {
        "id": "03slZw50UaRL",
        "colab": {
          "base_uri": "https://localhost:8080/",
          "height": 295
        },
        "outputId": "8b86fbb6-7f0c-4a01-e8fb-021f52535f5c"
      },
      "source": [
        "fpr, tpr, thresholds = roc_curve(error_df.true_class, error_df.reconstruction_error,pos_label=2)\n",
        "roc_auc = auc(fpr, tpr)\n",
        "\n",
        "\n",
        "plt.title('Receiver Operating Characteristic')\n",
        "plt.plot(fpr, tpr, label='AUC = %0.4f'% roc_auc)\n",
        "plt.legend(loc='lower right')\n",
        "plt.plot([0,1],[0,1],'r--')\n",
        "plt.xlim([-0.001, 1])\n",
        "plt.ylim([0, 1.001])\n",
        "plt.ylabel('True Positive Rate')\n",
        "plt.xlabel('False Positive Rate')\n",
        "plt.show();"
      ],
      "execution_count": null,
      "outputs": [
        {
          "output_type": "display_data",
          "data": {
            "image/png": "[encoded data removed]",
            "text/plain": [
              "<Figure size 432x288 with 1 Axes>"
            ]
          },
          "metadata": {
            "tags": []
          }
        }
      ]
    },
    {
      "cell_type": "code",
      "metadata": {
        "id": "R-pbYyAQWF9T",
        "colab": {
          "base_uri": "https://localhost:8080/",
          "height": 313
        },
        "outputId": "54e104a8-616d-40c2-fa98-043a4be86ba1"
      },
      "source": [
        "precision, recall, th = precision_recall_curve(error_df.true_class, error_df.reconstruction_error,pos_label=2)\n",
        "plt.plot(recall, precision, 'b', label='Precision-Recall curve')\n",
        "plt.title('Recall vs Precision')\n",
        "plt.xlabel('Recall')\n",
        "plt.ylabel('Precision')\n",
        "plt.show()"
      ],
      "execution_count": null,
      "outputs": [
        {
          "output_type": "execute_result",
          "data": {
            "text/plain": [
              "[<matplotlib.lines.Line2D at 0x7f1d8e3fb320>]"
            ]
          },
          "metadata": {
            "tags": []
          },
          "execution_count": 26
        },
        {
          "output_type": "execute_result",
          "data": {
            "text/plain": [
              "Text(0.5, 1.0, 'Recall vs Precision')"
            ]
          },
          "metadata": {
            "tags": []
          },
          "execution_count": 26
        },
        {
          "output_type": "execute_result",
          "data": {
            "text/plain": [
              "Text(0.5, 0, 'Recall')"
            ]
          },
          "metadata": {
            "tags": []
          },
          "execution_count": 26
        },
        {
          "output_type": "execute_result",
          "data": {
            "text/plain": [
              "Text(0, 0.5, 'Precision')"
            ]
          },
          "metadata": {
            "tags": []
          },
          "execution_count": 26
        },
        {
          "output_type": "display_data",
          "data": {
            "image/png": "[encoded data removed]",
            "text/plain": [
              "<Figure size 432x288 with 1 Axes>"
            ]
          },
          "metadata": {
            "tags": []
          }
        }
      ]
    },
    {
      "cell_type": "code",
      "metadata": {
        "id": "Rtw4oLWoWGAl"
      },
      "source": [
        ""
      ],
      "execution_count": null,
      "outputs": []
    },
    {
      "cell_type": "code",
      "metadata": {
        "id": "0VYvOtK3WGDk"
      },
      "source": [
        ""
      ],
      "execution_count": null,
      "outputs": []
    },
    {
      "cell_type": "code",
      "metadata": {
        "id": "0ZO3sHutWGGK"
      },
      "source": [
        ""
      ],
      "execution_count": null,
      "outputs": []
    },
    {
      "cell_type": "code",
      "metadata": {
        "id": "44ctGaksWGJq"
      },
      "source": [
        ""
      ],
      "execution_count": null,
      "outputs": []
    },
    {
      "cell_type": "code",
      "metadata": {
        "id": "dcN0CkgdUaP-"
      },
      "source": [
        ""
      ],
      "execution_count": null,
      "outputs": []
    },
    {
      "cell_type": "code",
      "metadata": {
        "id": "VAdJWAGfMBrW"
      },
      "source": [
        ""
      ],
      "execution_count": null,
      "outputs": []
    },
    {
      "cell_type": "code",
      "metadata": {
        "id": "wqMgvWslMBuT"
      },
      "source": [
        ""
      ],
      "execution_count": null,
      "outputs": []
    },
    {
      "cell_type": "code",
      "metadata": {
        "id": "dx6Hu-UDMBxI",
        "colab": {
          "base_uri": "https://localhost:8080/"
        },
        "outputId": "e57fac1a-af61-4001-9e49-6e5884489f10"
      },
      "source": [
        "import pandas as pd\n",
        "import pickle\n",
        "v1=3\n",
        "v2=4\n",
        "v3=5\n",
        "\n",
        "df1= pd.DataFrame({'v1': 3, 'v2': 4}, index=[0])\n",
        "print(df1)"
      ],
      "execution_count": 8,
      "outputs": [
        {
          "output_type": "stream",
          "text": [
            "   v1  v2\n",
            "0   3   4\n"
          ],
          "name": "stdout"
        }
      ]
    },
    {
      "cell_type": "code",
      "metadata": {
        "colab": {
          "base_uri": "https://localhost:8080/"
        },
        "id": "bx9IfGB-ZyD7",
        "outputId": "a12a86d3-8ee6-4d0e-cca3-9a7157535a49"
      },
      "source": [
        "# Custom modules\n",
        "from data_prep import load_csv_data\n",
        "import model_abstraction as moda\n",
        "\n",
        "# Data Structures\n",
        "import pandas as pd\n",
        "import numpy as np\n",
        "\n",
        "# Preprocessing or data manipulation methods\n",
        "from sklearn.decomposition import PCA\n",
        "from sklearn.preprocessing import OneHotEncoder\n",
        "\n",
        "# Modeling methods and selection\n",
        "from sklearn.neighbors import KNeighborsClassifier\n",
        "from sklearn.naive_bayes import GaussianNB, MultinomialNB\n",
        "from sklearn.linear_model import LogisticRegression\n",
        "from sklearn.tree import DecisionTreeClassifier\n",
        "from sklearn.ensemble import RandomForestClassifier, GradientBoostingClassifier\n",
        "from sklearn.svm import OneClassSVM, LinearSVC\n",
        "from sklearn.model_selection import GridSearchCV, cross_val_score, train_test_split\n",
        "\n",
        "# Model assessment\n",
        "from sklearn.metrics import confusion_matrix, roc_auc_score\n",
        "\n",
        "# Visualization\n",
        "import seaborn as sns\n",
        "import matplotlib.pyplot as plt\n",
        "def transform_labels(labels):\n",
        "    labels1 = []\n",
        "    for val in labels:\n",
        "        if val == 'anomaly':\n",
        "            labels1.append(1)\n",
        "        else:\n",
        "            labels1.append(0)\n",
        "    return labels1\n",
        "#X_train, y_train = load_csv_data('/content/UNSW_training_30_63.csv')\n",
        "data1 = pd.read_csv('/content/KDD_training_30_50.csv',header=0, index_col=0)\n",
        "\n",
        "features1 = data1.select_dtypes(exclude='object').iloc[:,:-1]\n",
        "\n",
        "\n",
        "X_train=features1\n",
        "print('X_train', features1)\n",
        "print('X_train length', len(features1))\n",
        "\n",
        "y_train=data1.label\n",
        "print('y_train', y_train)\n",
        "print('y_train length', len(features1))\n",
        "\n",
        "\n",
        "y_train=transform_labels(y_train)\n",
        "\t\t\n",
        "data2 = pd.read_csv('/content/KDD_testing_30_10.csv',header=0, index_col=0)\n",
        "\n",
        "features2 = data2.select_dtypes(exclude='object').iloc[:,:-1]\n",
        "X_test=features2\n",
        "y_test=data2.label\n",
        "\n",
        "y_test=transform_labels(y_test)\n",
        "\n",
        "\n",
        "gbc = GradientBoostingClassifier(random_state=42)\n",
        "gbc.fit(X_train, y_train)\n",
        "\n",
        "\n",
        "print('X test length',len(X_test))\n",
        "print('y test length',len(y_test))\n",
        "\n",
        "y_pred=gbc.predict(X_test)\n",
        "print('y pred length',len(y_pred))\n",
        "from sklearn import metrics\n",
        "# Model Accuracy, how often is the classifier correct?\n",
        "print(\"Accuracy for Gradient Boost:\",metrics.accuracy_score(y_test, y_pred))\n",
        "\n",
        "lgr = LogisticRegression(solver = 'liblinear', penalty = 'l1', random_state=42)\n",
        "lgr.fit(X_train, y_train)\n",
        "y_pred=lgr.predict(X_test)\n",
        "\n",
        "from sklearn import metrics\n",
        "# Model Accuracy, how often is the classifier correct?\n",
        "print(\"Accuracy for lgr:\",metrics.accuracy_score(y_test, y_pred))\n",
        "\n",
        "from sklearn.neighbors import KNeighborsClassifier\n",
        "classifier = KNeighborsClassifier(n_neighbors=10)\n",
        "classifier.fit(X_train, y_train)\n",
        "y_pred=classifier.predict(X_test)\n",
        "from sklearn import metrics\n",
        "# Model Accuracy, how often is the classifier correct?\n",
        "print(\"Accuracy for Knn:\",metrics.accuracy_score(y_test, y_pred))\n",
        "\n",
        "from sklearn.naive_bayes import GaussianNB\n",
        "\n",
        "#Create a Gaussian Classifier\n",
        "model = GaussianNB()\n",
        "\n",
        "# Train the model using the training sets\n",
        "#model.fit(features,label)\n",
        "model.fit(X_train, y_train)\n",
        "y_pred=model.predict(X_test)\n",
        "from sklearn import metrics\n",
        "# Model Accuracy, how often is the classifier correct?\n",
        "print(\"Accuracy for Gaussian NB:\",metrics.accuracy_score(y_test, y_pred))\n",
        "\n",
        "from sklearn.tree import DecisionTreeClassifier # Import Decision Tree Classifier\n",
        "dt = DecisionTreeClassifier()\n",
        "\n",
        "# Train Decision Tree Classifer\n",
        "dt.fit(X_train,y_train)\n",
        "y_pred=dt.predict(X_test)\n",
        "from sklearn import metrics\n",
        "# Model Accuracy, how often is the classifier correct?\n",
        "print(\"Accuracy for Decision Tree:\",metrics.accuracy_score(y_test, y_pred))\n",
        "\n",
        "\n"
      ],
      "execution_count": 33,
      "outputs": [
        {
          "output_type": "stream",
          "text": [
            "X_train           src_bytes  dst_bytes  ...  dst_host_srv_serror_rate  dst_host_rerror_rate\n",
            "duration                        ...                                                \n",
            "0                 0          0  ...                      1.00                  0.00\n",
            "0                 0          0  ...                      0.00                  0.95\n",
            "0                 0          0  ...                      1.00                  0.00\n",
            "0                 0         15  ...                      0.00                  1.00\n",
            "0                 0          0  ...                      1.00                  0.00\n",
            "...             ...        ...  ...                       ...                   ...\n",
            "0               145      13852  ...                      0.00                  0.00\n",
            "0               207       5200  ...                      0.00                  0.00\n",
            "0                35        130  ...                      0.00                  0.00\n",
            "0               383          0  ...                      0.01                  0.00\n",
            "0                45         81  ...                      0.00                  0.00\n",
            "\n",
            "[100048 rows x 36 columns]\n",
            "X_train length 100048\n",
            "y_train duration\n",
            "0    anomaly\n",
            "0    anomaly\n",
            "0    anomaly\n",
            "0    anomaly\n",
            "0    anomaly\n",
            "      ...   \n",
            "0     normal\n",
            "0     normal\n",
            "0     normal\n",
            "0     normal\n",
            "0     normal\n",
            "Name: label, Length: 100048, dtype: object\n",
            "y_train length 100048\n",
            "X test length 25815\n",
            "y test length 25815\n",
            "y pred length 25815\n",
            "Accuracy for Gradient Boost: 0.9514235909355027\n",
            "Accuracy for lgr: 0.9024985473561883\n",
            "Accuracy for Knn: 0.9461553360449351\n",
            "Accuracy for Gaussian NB: 0.8921557234166182\n",
            "Accuracy for Decision Tree: 0.9546000387371684\n"
          ],
          "name": "stdout"
        }
      ]
    },
    {
      "cell_type": "code",
      "metadata": {
        "colab": {
          "base_uri": "https://localhost:8080/"
        },
        "id": "xRfhRHTDp3xz",
        "outputId": "7efa2c0d-56ec-49a2-da7c-d22a1d90560e"
      },
      "source": [
        "# Custom modules\n",
        "from data_prep import load_csv_data\n",
        "import model_abstraction as moda\n",
        "\n",
        "# Data Structures\n",
        "import pandas as pd\n",
        "import numpy as np\n",
        "from sklearn.ensemble import IsolationForest\n",
        "from sklearn.svm import OneClassSVM\n",
        "from sklearn.metrics import roc_auc_score\n",
        "# Preprocessing or data manipulation methods\n",
        "from sklearn.decomposition import PCA\n",
        "from sklearn.preprocessing import OneHotEncoder\n",
        "\n",
        "# Modeling methods and selection\n",
        "from sklearn.neighbors import KNeighborsClassifier\n",
        "from sklearn.naive_bayes import GaussianNB, MultinomialNB\n",
        "from sklearn.linear_model import LogisticRegression\n",
        "from sklearn.tree import DecisionTreeClassifier\n",
        "from sklearn.ensemble import RandomForestClassifier, GradientBoostingClassifier\n",
        "from sklearn.svm import OneClassSVM, LinearSVC\n",
        "from sklearn.model_selection import GridSearchCV, cross_val_score, train_test_split\n",
        "\n",
        "# Model assessment\n",
        "from sklearn.metrics import confusion_matrix, roc_auc_score\n",
        "\n",
        "# Visualization\n",
        "import seaborn as sns\n",
        "import matplotlib.pyplot as plt\n",
        "\n",
        "\n",
        "\n",
        "def show_auc(labels, t1, t2):\n",
        "    return roc_auc_score(labels, t1, multi_class='ovr'), roc_auc_score(labels, t2, multi_class='ovr')\n",
        "\n",
        "def transform_labels(labels):\n",
        "    labels1 = []\n",
        "    for val in labels:\n",
        "        if val == 'anomaly':\n",
        "            labels1.append(1)\n",
        "        else:\n",
        "            labels1.append(0)\n",
        "    return labels1\n",
        "#X_train, y_train = load_csv_data('/content/UNSW_training_30_63.csv')\n",
        "data1 = pd.read_csv('/content/KDD_training_30_50.csv',header=0, index_col=0)\n",
        "\n",
        "features1 = data1.select_dtypes(exclude='object').iloc[:,:-1]\n",
        "\n",
        "\n",
        "X_train=features1\n",
        "print('X_train', features1)\n",
        "print('X_train length', len(features1))\n",
        "\n",
        "y_train=data1.label\n",
        "print('y_train', y_train)\n",
        "print('y_train length', len(features1))\n",
        "\n",
        "\n",
        "y_train=transform_labels(y_train)\n",
        "\n",
        "\n",
        "clf1 = IsolationForest(random_state=0).fit(X_train)\n",
        "clf2 = OneClassSVM(gamma='auto').fit(X_train)\n",
        "\n",
        "#data2 = pd.read_csv('/content/KDD_testing_30_50.csv',header=0, index_col=0)\n",
        "\n",
        "#features2 = data2.select_dtypes(exclude='object').iloc[:,:-1]\n",
        "#X_test=features2\n",
        "#y_test=data2.label\n",
        "\n",
        "#y_test=transform_labels(y_test)\n",
        "\n",
        "\n",
        "# Test data\n",
        "data2 = pd.read_csv('/content/KDD_testing_30_50.csv',header=0, index_col=0)\n",
        "\n",
        "Y=data2.select_dtypes(exclude='object').iloc[:,:-1]\n",
        "print(\"Y\", Y)\n",
        "print(\"y length\", len(Y))\n",
        "#Y = Y.replace([np.inf, -np.inf], np.nan)\n",
        "# Drop all occurences of NaN\n",
        "#Y = Y.dropna()\n",
        "# Double check these are all gone\n",
        "#print(\"CHecking Y\",Y.isnull().any().any())\n",
        "Y = Y.to_numpy()\n",
        "#labels = list(Y1[:, -1])\n",
        "#labels = transform_labels(labels)\n",
        "labels=transform_labels(data2.label)\n",
        "#labels[0] = -1\n",
        "#print (labels)\n",
        "#Y = pd.read_csv('/content/KDD_testing_30_50.csv')\n",
        "#Y=Y.select_dtypes(exclude='object').iloc[:,:-1]\n",
        "\n",
        "#Y = Y[:, :-1]\n",
        "\n",
        "\n",
        "#Y[Y == 'anomaly'] = 1\n",
        "#print ('Test shape. ', np.shape(Y))\n",
        "\n",
        "t1, t2 = [], []\n",
        "\n",
        "#t1 = []\n",
        "for i in range(np.shape(Y)[0]):\n",
        "    test_data = [float(val) for val in Y[i, :]]\n",
        "    # print (test_data)\n",
        "    #print ('Data point ', str(i))\n",
        "\n",
        "    t1.append(clf1.predict([test_data])[0])\n",
        "    t2.append(clf2.predict([test_data])[0])\n",
        "\n",
        "#print (t1, t2)\n",
        "#print (t1)\n",
        "print (show_auc(labels, t1,t2))\n"
      ],
      "execution_count": 45,
      "outputs": [
        {
          "output_type": "stream",
          "text": [
            "X_train           src_bytes  dst_bytes  ...  dst_host_srv_serror_rate  dst_host_rerror_rate\n",
            "duration                        ...                                                \n",
            "0                 0          0  ...                      1.00                  0.00\n",
            "0                 0          0  ...                      0.00                  0.95\n",
            "0                 0          0  ...                      1.00                  0.00\n",
            "0                 0         15  ...                      0.00                  1.00\n",
            "0                 0          0  ...                      1.00                  0.00\n",
            "...             ...        ...  ...                       ...                   ...\n",
            "0               145      13852  ...                      0.00                  0.00\n",
            "0               207       5200  ...                      0.00                  0.00\n",
            "0                35        130  ...                      0.00                  0.00\n",
            "0               383          0  ...                      0.01                  0.00\n",
            "0                45         81  ...                      0.00                  0.00\n",
            "\n",
            "[100048 rows x 36 columns]\n",
            "X_train length 100048\n",
            "y_train duration\n",
            "0    anomaly\n",
            "0    anomaly\n",
            "0    anomaly\n",
            "0    anomaly\n",
            "0    anomaly\n",
            "      ...   \n",
            "0     normal\n",
            "0     normal\n",
            "0     normal\n",
            "0     normal\n",
            "0     normal\n",
            "Name: label, Length: 100048, dtype: object\n",
            "y_train length 100048\n",
            "Y           src_bytes  dst_bytes  ...  dst_host_srv_serror_rate  dst_host_rerror_rate\n",
            "duration                        ...                                                \n",
            "0                 0          0  ...                      0.00                  1.00\n",
            "0                20          0  ...                      0.00                  0.00\n",
            "1                 0         15  ...                      0.00                  0.83\n",
            "0               129        174  ...                      0.01                  0.02\n",
            "0                26        157  ...                      0.00                  0.00\n",
            "...             ...        ...  ...                       ...                   ...\n",
            "0               207        294  ...                      0.00                  0.00\n",
            "0                45         76  ...                      0.00                  0.00\n",
            "0                 0          0  ...                      0.00                  0.37\n",
            "0               322       2073  ...                      0.00                  0.00\n",
            "0                46        129  ...                      0.00                  0.00\n",
            "\n",
            "[42876 rows x 36 columns]\n",
            "y length 42876\n",
            "(0.4145442671891034, 0.7379186491277171)\n"
          ],
          "name": "stdout"
        }
      ]
    },
    {
      "cell_type": "code",
      "metadata": {
        "id": "v2sP_bFyp4d-"
      },
      "source": [
        ""
      ],
      "execution_count": null,
      "outputs": []
    },
    {
      "cell_type": "code",
      "metadata": {
        "colab": {
          "base_uri": "https://localhost:8080/",
          "height": 370
        },
        "id": "ECeF1aYvmS8c",
        "outputId": "f1cee548-8b63-4f6c-c30c-fd434f5e5969"
      },
      "source": [
        "from sklearn.ensemble import IsolationForest\n",
        "from sklearn.svm import OneClassSVM\n",
        "from sklearn.metrics import roc_auc_score\n",
        "X = pd.read_csv('/content/KDD_training_30_50.csv')\n",
        "# Replace Inf values with NaN\n",
        "#X = X.replace([np.inf, -np.inf], np.nan)\n",
        "# Drop all occurences of NaN\n",
        "#X = X.dropna()\n",
        "# Double check these are all gone\n",
        "#print(\"Checking X\",X.isnull().any().any())\n",
        "#X=X.dropna(inplace=True)\n",
        "def transform_labels(labels):\n",
        "    labels1 = []\n",
        "    for val in labels:\n",
        "        if val == 'anomaly':\n",
        "            labels1.append(1)\n",
        "        else:\n",
        "            labels1.append(0)\n",
        "    return labels1\n",
        "y_train=X.label\n",
        "y_train=transform_labels(y_train)\n",
        "\n",
        "#features = list(X.keys())[:-1]\n",
        "# print (len(features))\n",
        "\n",
        "X = X.to_numpy()\n",
        "X = X[:, :-1]\n",
        "\n",
        "# print (X)\n",
        "# print (np.shape(X))\n",
        "\n",
        "\n",
        "clf1 = IsolationForest(random_state=0).fit(X)\n",
        "#clf2 = OneClassSVM(gamma='auto').fit(X)\n",
        "\n",
        "# Test data\n",
        "Y = pd.read_csv('/content/KDD_training_30_50.csv')\n",
        "#Y = Y.replace([np.inf, -np.inf], np.nan)\n",
        "# Drop all occurences of NaN\n",
        "#Y = Y.dropna()\n",
        "# Double check these are all gone\n",
        "#print(\"CHecking Y\",Y.isnull().any().any())\n",
        "Y = Y.to_numpy()\n",
        "labels = list(Y[:, -1])\n",
        "labels = transform_labels(labels)\n",
        "#labels[0] = -1\n",
        "#print (labels)\n",
        "\n",
        "Y = Y[:, :-1]\n",
        "\n",
        "\n",
        "Y[Y == 'anomaly'] = 1\n",
        "#print ('Test shape. ', np.shape(Y))\n",
        "\n",
        "#t1, t2 = [], []\n",
        "\n",
        "t1 = []\n",
        "for i in range(np.shape(Y)[0]):\n",
        "    test_data = [float(val) for val in Y[i, :]]\n",
        "    # print (test_data)\n",
        "    print ('Data point ', str(i))\n",
        "\n",
        "    t1.append(clf1.predict([test_data])[0])\n",
        "    #t2.append(clf2.predict([test_data])[0])\n",
        "\n",
        "#print (t1, t2)\n",
        "print (t1)\n",
        "print (show_auc(labels, t1))"
      ],
      "execution_count": 25,
      "outputs": [
        {
          "output_type": "error",
          "ename": "ValueError",
          "evalue": "ignored",
          "traceback": [
            "\u001b[0;31m---------------------------------------------------------------------------\u001b[0m",
            "\u001b[0;31mValueError\u001b[0m                                Traceback (most recent call last)",
            "\u001b[0;32m<ipython-input-25-2c4ff9936bc3>\u001b[0m in \u001b[0;36m<module>\u001b[0;34m()\u001b[0m\n\u001b[1;32m     31\u001b[0m \u001b[0;34m\u001b[0m\u001b[0m\n\u001b[1;32m     32\u001b[0m \u001b[0;34m\u001b[0m\u001b[0m\n\u001b[0;32m---> 33\u001b[0;31m \u001b[0mclf1\u001b[0m \u001b[0;34m=\u001b[0m \u001b[0mIsolationForest\u001b[0m\u001b[0;34m(\u001b[0m\u001b[0mrandom_state\u001b[0m\u001b[0;34m=\u001b[0m\u001b[0;36m0\u001b[0m\u001b[0;34m)\u001b[0m\u001b[0;34m.\u001b[0m\u001b[0mfit\u001b[0m\u001b[0;34m(\u001b[0m\u001b[0mX\u001b[0m\u001b[0;34m)\u001b[0m\u001b[0;34m\u001b[0m\u001b[0;34m\u001b[0m\u001b[0m\n\u001b[0m\u001b[1;32m     34\u001b[0m \u001b[0;31m#clf2 = OneClassSVM(gamma='auto').fit(X)\u001b[0m\u001b[0;34m\u001b[0m\u001b[0;34m\u001b[0m\u001b[0;34m\u001b[0m\u001b[0m\n\u001b[1;32m     35\u001b[0m \u001b[0;34m\u001b[0m\u001b[0m\n",
            "\u001b[0;32m/usr/local/lib/python3.7/dist-packages/sklearn/ensemble/_iforest.py\u001b[0m in \u001b[0;36mfit\u001b[0;34m(self, X, y, sample_weight)\u001b[0m\n\u001b[1;32m    254\u001b[0m                 )\n\u001b[1;32m    255\u001b[0m \u001b[0;34m\u001b[0m\u001b[0m\n\u001b[0;32m--> 256\u001b[0;31m         \u001b[0mX\u001b[0m \u001b[0;34m=\u001b[0m \u001b[0mcheck_array\u001b[0m\u001b[0;34m(\u001b[0m\u001b[0mX\u001b[0m\u001b[0;34m,\u001b[0m \u001b[0maccept_sparse\u001b[0m\u001b[0;34m=\u001b[0m\u001b[0;34m[\u001b[0m\u001b[0;34m'csc'\u001b[0m\u001b[0;34m]\u001b[0m\u001b[0;34m)\u001b[0m\u001b[0;34m\u001b[0m\u001b[0;34m\u001b[0m\u001b[0m\n\u001b[0m\u001b[1;32m    257\u001b[0m         \u001b[0;32mif\u001b[0m \u001b[0missparse\u001b[0m\u001b[0;34m(\u001b[0m\u001b[0mX\u001b[0m\u001b[0;34m)\u001b[0m\u001b[0;34m:\u001b[0m\u001b[0;34m\u001b[0m\u001b[0;34m\u001b[0m\u001b[0m\n\u001b[1;32m    258\u001b[0m             \u001b[0;31m# Pre-sort indices to avoid that each individual tree of the\u001b[0m\u001b[0;34m\u001b[0m\u001b[0;34m\u001b[0m\u001b[0;34m\u001b[0m\u001b[0m\n",
            "\u001b[0;32m/usr/local/lib/python3.7/dist-packages/sklearn/utils/validation.py\u001b[0m in \u001b[0;36mcheck_array\u001b[0;34m(array, accept_sparse, accept_large_sparse, dtype, order, copy, force_all_finite, ensure_2d, allow_nd, ensure_min_samples, ensure_min_features, warn_on_dtype, estimator)\u001b[0m\n\u001b[1;32m    529\u001b[0m                     \u001b[0marray\u001b[0m \u001b[0;34m=\u001b[0m \u001b[0marray\u001b[0m\u001b[0;34m.\u001b[0m\u001b[0mastype\u001b[0m\u001b[0;34m(\u001b[0m\u001b[0mdtype\u001b[0m\u001b[0;34m,\u001b[0m \u001b[0mcasting\u001b[0m\u001b[0;34m=\u001b[0m\u001b[0;34m\"unsafe\"\u001b[0m\u001b[0;34m,\u001b[0m \u001b[0mcopy\u001b[0m\u001b[0;34m=\u001b[0m\u001b[0;32mFalse\u001b[0m\u001b[0;34m)\u001b[0m\u001b[0;34m\u001b[0m\u001b[0;34m\u001b[0m\u001b[0m\n\u001b[1;32m    530\u001b[0m                 \u001b[0;32melse\u001b[0m\u001b[0;34m:\u001b[0m\u001b[0;34m\u001b[0m\u001b[0;34m\u001b[0m\u001b[0m\n\u001b[0;32m--> 531\u001b[0;31m                     \u001b[0marray\u001b[0m \u001b[0;34m=\u001b[0m \u001b[0mnp\u001b[0m\u001b[0;34m.\u001b[0m\u001b[0masarray\u001b[0m\u001b[0;34m(\u001b[0m\u001b[0marray\u001b[0m\u001b[0;34m,\u001b[0m \u001b[0morder\u001b[0m\u001b[0;34m=\u001b[0m\u001b[0morder\u001b[0m\u001b[0;34m,\u001b[0m \u001b[0mdtype\u001b[0m\u001b[0;34m=\u001b[0m\u001b[0mdtype\u001b[0m\u001b[0;34m)\u001b[0m\u001b[0;34m\u001b[0m\u001b[0;34m\u001b[0m\u001b[0m\n\u001b[0m\u001b[1;32m    532\u001b[0m             \u001b[0;32mexcept\u001b[0m \u001b[0mComplexWarning\u001b[0m\u001b[0;34m:\u001b[0m\u001b[0;34m\u001b[0m\u001b[0;34m\u001b[0m\u001b[0m\n\u001b[1;32m    533\u001b[0m                 raise ValueError(\"Complex data not supported\\n\"\n",
            "\u001b[0;32m/usr/local/lib/python3.7/dist-packages/numpy/core/_asarray.py\u001b[0m in \u001b[0;36masarray\u001b[0;34m(a, dtype, order)\u001b[0m\n\u001b[1;32m     81\u001b[0m \u001b[0;34m\u001b[0m\u001b[0m\n\u001b[1;32m     82\u001b[0m     \"\"\"\n\u001b[0;32m---> 83\u001b[0;31m     \u001b[0;32mreturn\u001b[0m \u001b[0marray\u001b[0m\u001b[0;34m(\u001b[0m\u001b[0ma\u001b[0m\u001b[0;34m,\u001b[0m \u001b[0mdtype\u001b[0m\u001b[0;34m,\u001b[0m \u001b[0mcopy\u001b[0m\u001b[0;34m=\u001b[0m\u001b[0;32mFalse\u001b[0m\u001b[0;34m,\u001b[0m \u001b[0morder\u001b[0m\u001b[0;34m=\u001b[0m\u001b[0morder\u001b[0m\u001b[0;34m)\u001b[0m\u001b[0;34m\u001b[0m\u001b[0;34m\u001b[0m\u001b[0m\n\u001b[0m\u001b[1;32m     84\u001b[0m \u001b[0;34m\u001b[0m\u001b[0m\n\u001b[1;32m     85\u001b[0m \u001b[0;34m\u001b[0m\u001b[0m\n",
            "\u001b[0;31mValueError\u001b[0m: could not convert string to float: 'tcp'"
          ]
        }
      ]
    }
  ]
}